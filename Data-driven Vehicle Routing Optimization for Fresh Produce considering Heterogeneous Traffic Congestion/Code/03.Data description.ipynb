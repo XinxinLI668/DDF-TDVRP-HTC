{
 "cells": [
  {
   "cell_type": "markdown",
   "metadata": {},
   "source": [
    "# 一、导入工具包 "
   ]
  },
  {
   "cell_type": "code",
   "execution_count": 1,
   "metadata": {},
   "outputs": [],
   "source": [
    "#导入数据处理库\n",
    "import numpy as np\n",
    "import pandas as pd\n",
    "#导入绘图工具包\n",
    "import plotly as py\n",
    "import plotly.graph_objs as go\n",
    "#离线绘图\n",
    "pyplt = py.offline.plot\n",
    "#随机生成数据\n",
    "import random\n",
    "#使得输出的数据可以完整打印出来全部的行列\n",
    "#显示所有列\n",
    "#pd.set_option('display.max_columns',None)\n",
    "#显示所有行\n",
    "#pd.set_option('display.max_rows',None)"
   ]
  },
  {
   "cell_type": "markdown",
   "metadata": {},
   "source": [
    "# 二、读入数据"
   ]
  },
  {
   "cell_type": "markdown",
   "metadata": {},
   "source": [
    "- 这次数据比较多，所以分为了6个Excel储存，日后可以学习下数据库用于储存大规模数据"
   ]
  },
  {
   "cell_type": "code",
   "execution_count": 2,
   "metadata": {},
   "outputs": [],
   "source": [
    "#读取路径1在2018年3月1日到11月24日的数据\n",
    "roadData = pd.read_excel(r'ShenZhen-roadData(1-72)/road1.xlsx',engine='openpyxl')"
   ]
  },
  {
   "cell_type": "markdown",
   "metadata": {},
   "source": [
    "# 三、描述性分析"
   ]
  },
  {
   "cell_type": "markdown",
   "metadata": {},
   "source": [
    "- 绘制数据随时间的变化趋势图像"
   ]
  },
  {
   "cell_type": "markdown",
   "metadata": {},
   "source": [
    "## （一）绘制全部数据的变化趋势 "
   ]
  },
  {
   "cell_type": "code",
   "execution_count": 63,
   "metadata": {},
   "outputs": [],
   "source": [
    "time_x = [i for i in range(0,len(roadData['EXPONENT']))]"
   ]
  },
  {
   "cell_type": "code",
   "execution_count": 64,
   "metadata": {},
   "outputs": [],
   "source": [
    "jam_y0 = roadData['EXPONENT'][1:roadData.shape[0]]"
   ]
  },
  {
   "cell_type": "code",
   "execution_count": 65,
   "metadata": {},
   "outputs": [],
   "source": [
    "trace0 = go.Scatter(x=time_x,y=jam_y0,name='Trafiic Congestion Index')"
   ]
  },
  {
   "cell_type": "code",
   "execution_count": 59,
   "metadata": {},
   "outputs": [],
   "source": [
    "layout0 = dict(title = '2018.03.01-2018.11.24',xaxis = dict(title = 'Time slots'),yaxis =  dict(title = 'Trafiic Congestion Index'))"
   ]
  },
  {
   "cell_type": "code",
   "execution_count": 66,
   "metadata": {},
   "outputs": [],
   "source": [
    "data0=[trace0]"
   ]
  },
  {
   "cell_type": "code",
   "execution_count": 67,
   "metadata": {},
   "outputs": [],
   "source": [
    "fig = dict(data=data0,layout = layout0)\n",
    "fig['layout']['plot_bgcolor'] = 'white' # 设置图的背景为白色\n",
    "fig['layout']['yaxis_showline'] = False #隐藏y轴\n",
    "fig['layout']['xaxis_showline'] = True #隐藏x轴\n",
    "pyplt(fig,filename='交通拥堵指数整体变化趋势.html')\n",
    "# 保存为SVG格式，设置较高的分辨率\n",
    "pio.write_image(fig,'交通拥堵指数整体变化趋势.svg', engine='kaleido', width=1200, height=800)"
   ]
  },
  {
   "cell_type": "markdown",
   "metadata": {},
   "source": [
    "## （二） 每日变化模式（从周一到周日）"
   ]
  },
  {
   "cell_type": "code",
   "execution_count": 38,
   "metadata": {},
   "outputs": [],
   "source": [
    "time_x = [i for i in range(0,288)]"
   ]
  },
  {
   "cell_type": "code",
   "execution_count": 39,
   "metadata": {},
   "outputs": [],
   "source": [
    "jam_y0 = roadData['EXPONENT'][0:288]\n",
    "jam_y1 = roadData['EXPONENT'][288:576]\n",
    "jam_y2 = roadData['EXPONENT'][576:864]\n",
    "jam_y3 = roadData['EXPONENT'][864:1152]\n",
    "jam_y4 = roadData['EXPONENT'][1152:1440]\n",
    "jam_y5 = roadData['EXPONENT'][1440:1728]\n",
    "jam_y6 = roadData['EXPONENT'][1728:2016]"
   ]
  },
  {
   "cell_type": "code",
   "execution_count": 40,
   "metadata": {},
   "outputs": [],
   "source": [
    "trace0 = go.Scatter(x=time_x,y=jam_y0,name='Thursday',line = dict(width=3))\n",
    "trace1 = go.Scatter(x=time_x,y=jam_y1,name='Friday',line = dict(width=3))\n",
    "trace2 = go.Scatter(x=time_x,y=jam_y2,name='Saturday',line = dict(width=3))\n",
    "trace3 = go.Scatter(x=time_x,y=jam_y3,name='Sunday',line = dict(width=3))\n",
    "trace4 = go.Scatter(x=time_x,y=jam_y4,name='Monday',line = dict(width=3))\n",
    "trace5 = go.Scatter(x=time_x,y=jam_y5,name='Tuesday',line = dict(width=3))\n",
    "trace6 = go.Scatter(x=time_x,y=jam_y6,name='Wednesday',line = dict(width=3))"
   ]
  },
  {
   "cell_type": "code",
   "execution_count": 62,
   "metadata": {},
   "outputs": [],
   "source": [
    "layout0 = dict(#title = 'The training and validation loss change with epochs',\n",
    "               width=1000,  # 设置画布宽度为700像素\n",
    "               height=700,  # 设置画布高度为1000像素\n",
    "               legend=dict(\n",
    "                   x=1, #以画布左下角为原点，设置图例距离画布原点的横向位置\n",
    "                   y=0.98,  #以画布左下角为原点，设置图例距离画布原点的纵向位置\n",
    "                   font=dict(\n",
    "                       family='Times New Roman',  # 设置图例字体为Times New Roman\n",
    "                       size=22  # 设置图例字体大小为16号\n",
    "                   ),\n",
    "               ),  # 将图例放置在画布右上角\n",
    "               xaxis=dict(\n",
    "                   title ='Time slots (5 mins)', #设置x轴的标题\n",
    "                   title_font=dict(\n",
    "                       family='Times New Roman',  # 设置x轴标题字体为Times New Roman\n",
    "                       size=22,  # 设置x轴标题字体大小为16号\n",
    "                   ),\n",
    "                   linecolor='lightgray',  # 设置x轴线的颜色为浅灰色\n",
    "                   ticks='inside',  # 设置x轴刻度线样式\n",
    "                   tickfont=dict(\n",
    "                       family='Times New Roman',  # 设置x轴刻度值标签的字体为Times New Roman\n",
    "                       size=22   # 设置x轴刻度值标签的字体大小为16号\n",
    "                   ),\n",
    "                   showgrid=False,  # 显示x轴网格线\n",
    "                   gridcolor='lightgray'  # 设置x轴网格线的颜色为浅灰色\n",
    "               ),\n",
    "               yaxis=dict(\n",
    "                   title = 'Traffic congsetion index',#设置x轴的标题\n",
    "                   title_font=dict(\n",
    "                       family='Times New Roman',  # 设置x轴标题字体为Times New Roman\n",
    "                       size=22,  # 设置x轴标题字体大小为16号\n",
    "                   ),                   \n",
    "                   linecolor='lightgray',  # 设置x轴线的颜色为浅灰色\n",
    "                   ticks='inside',  # 设置y轴刻度线样式\n",
    "                   tickfont=dict(\n",
    "                       family='Times New Roman',  # 设置x轴刻度值标签的字体为Times New Roman\n",
    "                       size=22   # 设置x轴刻度值标签的字体大小为16号\n",
    "                   ),\n",
    "                   showgrid=True,  # 不显示y轴网格线\n",
    "                   gridcolor='lightgray'  # 设置y轴网格线的颜色为浅灰色\n",
    "               ))\n"
   ]
  },
  {
   "cell_type": "code",
   "execution_count": 52,
   "metadata": {},
   "outputs": [],
   "source": [
    "data0=[trace0,trace1,trace2,trace3,trace4,trace5,trace6]\n",
    "fig = dict(data=data0,layout = layout0)"
   ]
  },
  {
   "cell_type": "code",
   "execution_count": 53,
   "metadata": {},
   "outputs": [],
   "source": [
    "fig['layout']['plot_bgcolor'] = 'white' # 设置图的背景为白色\n",
    "fig['layout']['yaxis_showline'] = False #隐藏y轴\n",
    "fig['layout']['xaxis_showline'] = True #隐藏x轴"
   ]
  },
  {
   "cell_type": "code",
   "execution_count": 54,
   "metadata": {},
   "outputs": [],
   "source": [
    "#将图像保存为SVG矢量格式\n",
    "import kaleido\n",
    "#将图像保存到本地\n",
    "import plotly.io as pio"
   ]
  },
  {
   "cell_type": "code",
   "execution_count": 55,
   "metadata": {},
   "outputs": [],
   "source": [
    "pyplt(fig,filename='交通拥堵指数每日变化趋势图.html')\n",
    "# 保存为SVG格式，设置较高的分辨率\n",
    "pio.write_image(fig,'交通拥堵指数每日变化趋势图.svg', engine='kaleido', width=1200, height=800)"
   ]
  },
  {
   "cell_type": "markdown",
   "metadata": {},
   "source": [
    "## （三）每日变化模式（周五） "
   ]
  },
  {
   "cell_type": "code",
   "execution_count": 32,
   "metadata": {},
   "outputs": [],
   "source": [
    "time_x = [i for i in range(0,288)]"
   ]
  },
  {
   "cell_type": "code",
   "execution_count": 33,
   "metadata": {},
   "outputs": [],
   "source": [
    "jam_y0 = roadData['EXPONENT'][0:288]\n",
    "jam_y1 = roadData['EXPONENT'][2016:2304]\n",
    "jam_y2 = roadData['EXPONENT'][4320:4608]\n",
    "jam_y3 = roadData['EXPONENT'][6624:6912]\n",
    "jam_y4 = roadData['EXPONENT'][8928:9216]"
   ]
  },
  {
   "cell_type": "code",
   "execution_count": 34,
   "metadata": {},
   "outputs": [],
   "source": [
    "trace0 = go.Scatter(x=time_x,y=jam_y0,name='Friday in the first week')\n",
    "trace1 = go.Scatter(x=time_x,y=jam_y1,name='Friday in the second week')\n",
    "trace2 = go.Scatter(x=time_x,y=jam_y2,name='Friday in the third week')\n",
    "trace3 = go.Scatter(x=time_x,y=jam_y3,name='Friday in the fourth week')\n",
    "trace4 = go.Scatter(x=time_x,y=jam_y4,name='Friday in the fifth week')"
   ]
  },
  {
   "cell_type": "code",
   "execution_count": 35,
   "metadata": {},
   "outputs": [],
   "source": [
    "#layout0 = dict(title = '道路每日交通态势变化',xaxis = dict(title ='Time slot'),yaxis =  dict(title = 'Trafiic Congestion Index'))"
   ]
  },
  {
   "cell_type": "code",
   "execution_count": 36,
   "metadata": {},
   "outputs": [],
   "source": [
    "data0=[trace0,trace1,trace2,trace3,trace4]"
   ]
  },
  {
   "cell_type": "code",
   "execution_count": 37,
   "metadata": {},
   "outputs": [],
   "source": [
    "fig = dict(data=data0,layout = layout0)\n",
    "fig['layout']['plot_bgcolor'] = 'white' # 设置图的背景为白色\n",
    "fig['layout']['yaxis_showline'] = False #隐藏y轴\n",
    "fig['layout']['xaxis_showline'] = True #隐藏x轴\n",
    "pyplt(fig,filename='交通拥堵指数隔周变化趋势图.html')\n",
    "# 保存为SVG格式，设置较高的分辨率\n",
    "pio.write_image(fig,'交通拥堵指数隔周变化趋势图.svg', engine='kaleido', width=1200, height=800)"
   ]
  },
  {
   "cell_type": "markdown",
   "metadata": {},
   "source": [
    "## （四）每周变化趋势"
   ]
  },
  {
   "cell_type": "code",
   "execution_count": 25,
   "metadata": {},
   "outputs": [],
   "source": [
    "time_x = [i for i in range(0,2016)]"
   ]
  },
  {
   "cell_type": "code",
   "execution_count": 26,
   "metadata": {},
   "outputs": [],
   "source": [
    "jam_y0 = roadData['EXPONENT'][1152:3168]\n",
    "jam_y1 = roadData['EXPONENT'][3168:5184]\n",
    "jam_y2 = roadData['EXPONENT'][5184:7200]\n",
    "jam_y3 = roadData['EXPONENT'][7200:9216]"
   ]
  },
  {
   "cell_type": "code",
   "execution_count": 27,
   "metadata": {},
   "outputs": [],
   "source": [
    "trace0 = go.Scatter(x=time_x,y=jam_y0,name='The first week in March')\n",
    "trace1 = go.Scatter(x=time_x,y=jam_y1,name='The second week in March')\n",
    "trace2 = go.Scatter(x=time_x,y=jam_y2,name='The third week in March')\n",
    "trace3 = go.Scatter(x=time_x,y=jam_y3,name='The fourth week in March')"
   ]
  },
  {
   "cell_type": "code",
   "execution_count": 28,
   "metadata": {},
   "outputs": [],
   "source": [
    "#layout0 = dict(title = '道路每日交通态势变化',xaxis = dict(title = 'Time Period'),yaxis =  dict(title = 'Trafiic Congestion Index'))"
   ]
  },
  {
   "cell_type": "code",
   "execution_count": 29,
   "metadata": {},
   "outputs": [],
   "source": [
    "data0=[trace0,trace1,trace2,trace3]"
   ]
  },
  {
   "cell_type": "code",
   "execution_count": 30,
   "metadata": {},
   "outputs": [],
   "source": [
    "fig = dict(data=data0,layout = layout0)\n",
    "fig['layout']['plot_bgcolor'] = 'white' # 设置图的背景为白色\n",
    "fig['layout']['yaxis_showline'] = False #隐藏y轴\n",
    "fig['layout']['xaxis_showline'] = True #隐藏x轴\n",
    "pyplt(fig,filename='交通拥堵指数连续周变化趋势图.html')\n",
    "# 保存为SVG格式，设置较高的分辨率\n",
    "pio.write_image(fig,'交通拥堵指数连续周变化趋势图.svg', engine='kaleido', width=1200, height=800)"
   ]
  },
  {
   "cell_type": "markdown",
   "metadata": {},
   "source": [
    "- 综上分析，发现交通拥堵指数的变化具有周期性，且和“星期”这一变量有关。因此，在后续交通拥堵趋势预测过程中，需要把星期考虑进去"
   ]
  },
  {
   "cell_type": "code",
   "execution_count": null,
   "metadata": {},
   "outputs": [],
   "source": []
  }
 ],
 "metadata": {
  "kernelspec": {
   "display_name": "Python 3",
   "language": "python",
   "name": "python3"
  },
  "language_info": {
   "codemirror_mode": {
    "name": "ipython",
    "version": 3
   },
   "file_extension": ".py",
   "mimetype": "text/x-python",
   "name": "python",
   "nbconvert_exporter": "python",
   "pygments_lexer": "ipython3",
   "version": "3.7.6"
  }
 },
 "nbformat": 4,
 "nbformat_minor": 4
}
