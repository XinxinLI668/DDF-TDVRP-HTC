{
 "cells": [
  {
   "cell_type": "markdown",
   "metadata": {},
   "source": [
    "- 使用3月-11月的数据进行训练，预测11月24的拥堵状况"
   ]
  },
  {
   "cell_type": "markdown",
   "metadata": {},
   "source": [
    "# 一、导入工具包 "
   ]
  },
  {
   "cell_type": "code",
   "execution_count": 1,
   "metadata": {},
   "outputs": [],
   "source": [
    "#导入数据处理库\n",
    "import numpy as np\n",
    "import pandas as pd\n",
    "#读取Excel及数据保存为Excel\n",
    "import openpyxl"
   ]
  },
  {
   "cell_type": "code",
   "execution_count": 2,
   "metadata": {},
   "outputs": [
    {
     "name": "stderr",
     "output_type": "stream",
     "text": [
      "2024-04-19 21:39:06.617412: I tensorflow/core/platform/cpu_feature_guard.cc:193] This TensorFlow binary is optimized with oneAPI Deep Neural Network Library (oneDNN) to use the following CPU instructions in performance-critical operations:  AVX2 AVX512F AVX512_VNNI FMA\n",
      "To enable them in other operations, rebuild TensorFlow with the appropriate compiler flags.\n",
      "2024-04-19 21:39:06.790759: I tensorflow/core/util/port.cc:104] oneDNN custom operations are on. You may see slightly different numerical results due to floating-point round-off errors from different computation orders. To turn them off, set the environment variable `TF_ENABLE_ONEDNN_OPTS=0`.\n",
      "2024-04-19 21:39:07.653609: W tensorflow/compiler/xla/stream_executor/platform/default/dso_loader.cc:64] Could not load dynamic library 'libcudart.so.11.0'; dlerror: (null error message); LD_LIBRARY_PATH: /usr/local/nvidia/lib:/usr/local/nvidia/lib64\n",
      "2024-04-19 21:39:07.653656: I tensorflow/compiler/xla/stream_executor/cuda/cudart_stub.cc:29] Ignore above cudart dlerror if you do not have a GPU set up on your machine.\n",
      "2024-04-19 21:39:09.669346: W tensorflow/compiler/xla/stream_executor/platform/default/dso_loader.cc:64] Could not load dynamic library 'libnvinfer.so.7'; dlerror: libnvinfer.so.7: cannot open shared object file: No such file or directory; LD_LIBRARY_PATH: /usr/local/nvidia/lib:/usr/local/nvidia/lib64\n",
      "2024-04-19 21:39:09.678682: W tensorflow/compiler/xla/stream_executor/platform/default/dso_loader.cc:64] Could not load dynamic library 'libnvinfer_plugin.so.7'; dlerror: libnvinfer_plugin.so.7: cannot open shared object file: No such file or directory; LD_LIBRARY_PATH: /usr/local/nvidia/lib:/usr/local/nvidia/lib64\n",
      "2024-04-19 21:39:09.678718: W tensorflow/compiler/tf2tensorrt/utils/py_utils.cc:38] TF-TRT Warning: Cannot dlopen some TensorRT libraries. If you would like to use Nvidia GPU with TensorRT, please make sure the missing libraries mentioned above are installed properly.\n"
     ]
    }
   ],
   "source": [
    "#导入绘图工具包\n",
    "import plotly as py\n",
    "import plotly.graph_objs as go\n",
    "#离线绘图\n",
    "pyplt = py.offline.plot\n",
    "#随机生成数据\n",
    "import random\n",
    "#使得输出的数据可以完整打印出来全部的行列\n",
    "#显示所有列\n",
    "#pd.set_option('display.max_columns',None)\n",
    "#显示所有行\n",
    "#pd.set_option('display.max_rows',None)\n",
    "from tensorflow import keras\n",
    "from tensorflow.keras import layers\n",
    "import matplotlib.pyplot as plt\n",
    "import tensorflow as tf  \n",
    "%matplotlib inline\n",
    "import os\n",
    "os.environ[\"TF_CPP_MIN_LOG_LEVEL\"] = '3' # 只显示 Error"
   ]
  },
  {
   "cell_type": "code",
   "execution_count": 3,
   "metadata": {},
   "outputs": [
    {
     "name": "stdout",
     "output_type": "stream",
     "text": [
      "[]\n"
     ]
    },
    {
     "name": "stderr",
     "output_type": "stream",
     "text": [
      "2024-04-19 21:39:12.341536: W tensorflow/compiler/xla/stream_executor/platform/default/dso_loader.cc:64] Could not load dynamic library 'libcudart.so.11.0'; dlerror: libcudart.so.11.0: cannot open shared object file: No such file or directory; LD_LIBRARY_PATH: /usr/local/nvidia/lib:/usr/local/nvidia/lib64\n",
      "2024-04-19 21:39:12.355073: W tensorflow/compiler/xla/stream_executor/platform/default/dso_loader.cc:64] Could not load dynamic library 'libcublas.so.11'; dlerror: libcublas.so.11: cannot open shared object file: No such file or directory; LD_LIBRARY_PATH: /usr/local/nvidia/lib:/usr/local/nvidia/lib64\n",
      "2024-04-19 21:39:12.368210: W tensorflow/compiler/xla/stream_executor/platform/default/dso_loader.cc:64] Could not load dynamic library 'libcublasLt.so.11'; dlerror: libcublasLt.so.11: cannot open shared object file: No such file or directory; LD_LIBRARY_PATH: /usr/local/nvidia/lib:/usr/local/nvidia/lib64\n",
      "2024-04-19 21:39:12.546238: W tensorflow/compiler/xla/stream_executor/platform/default/dso_loader.cc:64] Could not load dynamic library 'libcusolver.so.11'; dlerror: libcusolver.so.11: cannot open shared object file: No such file or directory; LD_LIBRARY_PATH: /usr/local/nvidia/lib:/usr/local/nvidia/lib64\n",
      "2024-04-19 21:39:12.559542: W tensorflow/compiler/xla/stream_executor/platform/default/dso_loader.cc:64] Could not load dynamic library 'libcusparse.so.11'; dlerror: libcusparse.so.11: cannot open shared object file: No such file or directory; LD_LIBRARY_PATH: /usr/local/nvidia/lib:/usr/local/nvidia/lib64\n",
      "2024-04-19 21:39:12.572489: W tensorflow/compiler/xla/stream_executor/platform/default/dso_loader.cc:64] Could not load dynamic library 'libcudnn.so.8'; dlerror: libcudnn.so.8: cannot open shared object file: No such file or directory; LD_LIBRARY_PATH: /usr/local/nvidia/lib:/usr/local/nvidia/lib64\n",
      "2024-04-19 21:39:12.572541: W tensorflow/core/common_runtime/gpu/gpu_device.cc:1934] Cannot dlopen some GPU libraries. Please make sure the missing libraries mentioned above are installed properly if you would like to use GPU. Follow the guide at https://www.tensorflow.org/install/gpu for how to download and setup the required libraries for your platform.\n",
      "Skipping registering GPU devices...\n"
     ]
    }
   ],
   "source": [
    "# 设置gpu内存自增长\n",
    "gpus = tf.config.experimental.list_physical_devices('GPU')\n",
    "print(gpus)\n",
    "for gpu in gpus:\n",
    "    tf.config.experimental.set_memory_growth(gpu, True)"
   ]
  },
  {
   "cell_type": "markdown",
   "metadata": {},
   "source": [
    "# 二、读入数据"
   ]
  },
  {
   "cell_type": "code",
   "execution_count": 75,
   "metadata": {},
   "outputs": [],
   "source": [
    "number = 54"
   ]
  },
  {
   "cell_type": "code",
   "execution_count": 76,
   "metadata": {},
   "outputs": [],
   "source": [
    "#读取某条路径的全部数据\n",
    "corrected_roadData = pd.read_csv(r'./data/road%d.csv'%number)"
   ]
  },
  {
   "cell_type": "code",
   "execution_count": 77,
   "metadata": {},
   "outputs": [
    {
     "data": {
      "text/html": [
       "<div>\n",
       "<style scoped>\n",
       "    .dataframe tbody tr th:only-of-type {\n",
       "        vertical-align: middle;\n",
       "    }\n",
       "\n",
       "    .dataframe tbody tr th {\n",
       "        vertical-align: top;\n",
       "    }\n",
       "\n",
       "    .dataframe thead th {\n",
       "        text-align: right;\n",
       "    }\n",
       "</style>\n",
       "<table border=\"1\" class=\"dataframe\">\n",
       "  <thead>\n",
       "    <tr style=\"text-align: right;\">\n",
       "      <th></th>\n",
       "      <th>date</th>\n",
       "      <th>Monday</th>\n",
       "      <th>Tuesday</th>\n",
       "      <th>Wednesday</th>\n",
       "      <th>Thursday</th>\n",
       "      <th>Friday</th>\n",
       "      <th>Saturday</th>\n",
       "      <th>Sunday</th>\n",
       "      <th>EXPONENT</th>\n",
       "    </tr>\n",
       "  </thead>\n",
       "  <tbody>\n",
       "    <tr>\n",
       "      <th>0</th>\n",
       "      <td>2018/7/1 0:00</td>\n",
       "      <td>0</td>\n",
       "      <td>0</td>\n",
       "      <td>0</td>\n",
       "      <td>0</td>\n",
       "      <td>0</td>\n",
       "      <td>0</td>\n",
       "      <td>1</td>\n",
       "      <td>3</td>\n",
       "    </tr>\n",
       "    <tr>\n",
       "      <th>1</th>\n",
       "      <td>2018/7/1 0:05</td>\n",
       "      <td>0</td>\n",
       "      <td>0</td>\n",
       "      <td>0</td>\n",
       "      <td>0</td>\n",
       "      <td>0</td>\n",
       "      <td>0</td>\n",
       "      <td>1</td>\n",
       "      <td>3</td>\n",
       "    </tr>\n",
       "    <tr>\n",
       "      <th>2</th>\n",
       "      <td>2018/7/1 0:10</td>\n",
       "      <td>0</td>\n",
       "      <td>0</td>\n",
       "      <td>0</td>\n",
       "      <td>0</td>\n",
       "      <td>0</td>\n",
       "      <td>0</td>\n",
       "      <td>1</td>\n",
       "      <td>2</td>\n",
       "    </tr>\n",
       "    <tr>\n",
       "      <th>3</th>\n",
       "      <td>2018/7/1 0:15</td>\n",
       "      <td>0</td>\n",
       "      <td>0</td>\n",
       "      <td>0</td>\n",
       "      <td>0</td>\n",
       "      <td>0</td>\n",
       "      <td>0</td>\n",
       "      <td>1</td>\n",
       "      <td>3</td>\n",
       "    </tr>\n",
       "    <tr>\n",
       "      <th>4</th>\n",
       "      <td>2018/7/1 0:20</td>\n",
       "      <td>0</td>\n",
       "      <td>0</td>\n",
       "      <td>0</td>\n",
       "      <td>0</td>\n",
       "      <td>0</td>\n",
       "      <td>0</td>\n",
       "      <td>1</td>\n",
       "      <td>3</td>\n",
       "    </tr>\n",
       "    <tr>\n",
       "      <th>...</th>\n",
       "      <td>...</td>\n",
       "      <td>...</td>\n",
       "      <td>...</td>\n",
       "      <td>...</td>\n",
       "      <td>...</td>\n",
       "      <td>...</td>\n",
       "      <td>...</td>\n",
       "      <td>...</td>\n",
       "      <td>...</td>\n",
       "    </tr>\n",
       "    <tr>\n",
       "      <th>42043</th>\n",
       "      <td>2018/11/23 23:35</td>\n",
       "      <td>0</td>\n",
       "      <td>0</td>\n",
       "      <td>0</td>\n",
       "      <td>0</td>\n",
       "      <td>0</td>\n",
       "      <td>1</td>\n",
       "      <td>0</td>\n",
       "      <td>2</td>\n",
       "    </tr>\n",
       "    <tr>\n",
       "      <th>42044</th>\n",
       "      <td>2018/11/23 23:40</td>\n",
       "      <td>0</td>\n",
       "      <td>0</td>\n",
       "      <td>0</td>\n",
       "      <td>0</td>\n",
       "      <td>0</td>\n",
       "      <td>1</td>\n",
       "      <td>0</td>\n",
       "      <td>2</td>\n",
       "    </tr>\n",
       "    <tr>\n",
       "      <th>42045</th>\n",
       "      <td>2018/11/23 23:45</td>\n",
       "      <td>0</td>\n",
       "      <td>0</td>\n",
       "      <td>0</td>\n",
       "      <td>0</td>\n",
       "      <td>0</td>\n",
       "      <td>1</td>\n",
       "      <td>0</td>\n",
       "      <td>2</td>\n",
       "    </tr>\n",
       "    <tr>\n",
       "      <th>42046</th>\n",
       "      <td>2018/11/23 23:50</td>\n",
       "      <td>0</td>\n",
       "      <td>0</td>\n",
       "      <td>0</td>\n",
       "      <td>0</td>\n",
       "      <td>0</td>\n",
       "      <td>1</td>\n",
       "      <td>0</td>\n",
       "      <td>2</td>\n",
       "    </tr>\n",
       "    <tr>\n",
       "      <th>42047</th>\n",
       "      <td>2018/11/23 23:55</td>\n",
       "      <td>0</td>\n",
       "      <td>0</td>\n",
       "      <td>0</td>\n",
       "      <td>0</td>\n",
       "      <td>0</td>\n",
       "      <td>1</td>\n",
       "      <td>0</td>\n",
       "      <td>2</td>\n",
       "    </tr>\n",
       "  </tbody>\n",
       "</table>\n",
       "<p>42048 rows × 9 columns</p>\n",
       "</div>"
      ],
      "text/plain": [
       "                   date  Monday  Tuesday  Wednesday  Thursday  Friday  \\\n",
       "0         2018/7/1 0:00       0        0          0         0       0   \n",
       "1         2018/7/1 0:05       0        0          0         0       0   \n",
       "2         2018/7/1 0:10       0        0          0         0       0   \n",
       "3         2018/7/1 0:15       0        0          0         0       0   \n",
       "4         2018/7/1 0:20       0        0          0         0       0   \n",
       "...                 ...     ...      ...        ...       ...     ...   \n",
       "42043  2018/11/23 23:35       0        0          0         0       0   \n",
       "42044  2018/11/23 23:40       0        0          0         0       0   \n",
       "42045  2018/11/23 23:45       0        0          0         0       0   \n",
       "42046  2018/11/23 23:50       0        0          0         0       0   \n",
       "42047  2018/11/23 23:55       0        0          0         0       0   \n",
       "\n",
       "       Saturday  Sunday  EXPONENT  \n",
       "0             0       1         3  \n",
       "1             0       1         3  \n",
       "2             0       1         2  \n",
       "3             0       1         3  \n",
       "4             0       1         3  \n",
       "...         ...     ...       ...  \n",
       "42043         1       0         2  \n",
       "42044         1       0         2  \n",
       "42045         1       0         2  \n",
       "42046         1       0         2  \n",
       "42047         1       0         2  \n",
       "\n",
       "[42048 rows x 9 columns]"
      ]
     },
     "execution_count": 77,
     "metadata": {},
     "output_type": "execute_result"
    }
   ],
   "source": [
    "corrected_roadData"
   ]
  },
  {
   "cell_type": "markdown",
   "metadata": {},
   "source": [
    "# 三、处理数据"
   ]
  },
  {
   "cell_type": "code",
   "execution_count": 78,
   "metadata": {},
   "outputs": [],
   "source": [
    "#输入数据的长度，用前3天的数据预测24小时以后的一个时刻的数据，每天有288个观测值\n",
    "sequence_len = 3 * 288   #训练数据：从当前时间点来看前面5天的数据\n",
    "delay = 288  #预测数据：从当前时间点来看后一天的数据\n",
    "for_predict = (5 * 288 - 1)  #用于预测的数据，不参与模型训练和验证"
   ]
  },
  {
   "cell_type": "code",
   "execution_count": 79,
   "metadata": {},
   "outputs": [
    {
     "data": {
      "text/plain": [
       "array([[0, 0, 0, ..., 0, 1, 3],\n",
       "       [0, 0, 0, ..., 0, 1, 3],\n",
       "       [0, 0, 0, ..., 0, 1, 2],\n",
       "       ...,\n",
       "       [0, 0, 0, ..., 1, 0, 2],\n",
       "       [0, 0, 0, ..., 1, 0, 2],\n",
       "       [0, 0, 0, ..., 1, 0, 2]])"
      ]
     },
     "execution_count": 79,
     "metadata": {},
     "output_type": "execute_result"
    }
   ],
   "source": [
    "#因为是一个单输入和单输出，所以只需要提取出roadData中的第三列数据，然后重新赋值给roadData即可\n",
    "#此时输出的结果是一个二维array数组\n",
    "roadData_array = corrected_roadData.iloc[:,1:].values\n",
    "roadData_array"
   ]
  },
  {
   "cell_type": "code",
   "execution_count": 80,
   "metadata": {},
   "outputs": [],
   "source": [
    "#创建一个空列表data_，每六天的数据为一组（共1152条），将全部数据（共76032条）去除用于预测的数据（2015条）进行划分（全部数据量/六天的数据总量）组，每条数据只有一个变量\n",
    "data_ = []\n",
    "for i in range(len(roadData_array)-sequence_len-delay-for_predict):\n",
    "    data_.append(roadData_array[i:i+sequence_len+delay])\n",
    "#把data_转化为array数组，三维（全部数据量，每组数据量，每条数据所含变量）\n",
    "data_ = np.array(data_)"
   ]
  },
  {
   "cell_type": "code",
   "execution_count": 81,
   "metadata": {},
   "outputs": [],
   "source": [
    "#把全部组的数据的顺序打乱\n",
    "np.random.shuffle(data_)"
   ]
  },
  {
   "cell_type": "code",
   "execution_count": 82,
   "metadata": {},
   "outputs": [],
   "source": [
    "#高维数组切片，切出x（特征）和y（标签）\n",
    "x = data_[: , :3*288, : ]"
   ]
  },
  {
   "cell_type": "code",
   "execution_count": 83,
   "metadata": {},
   "outputs": [],
   "source": [
    "y = data_[: ,-1, 7:]"
   ]
  },
  {
   "cell_type": "code",
   "execution_count": 84,
   "metadata": {},
   "outputs": [
    {
     "data": {
      "text/plain": [
       "(39457, 864, 8)"
      ]
     },
     "execution_count": 84,
     "metadata": {},
     "output_type": "execute_result"
    }
   ],
   "source": [
    "x.shape"
   ]
  },
  {
   "cell_type": "code",
   "execution_count": 85,
   "metadata": {},
   "outputs": [
    {
     "data": {
      "text/plain": [
       "(39457, 1)"
      ]
     },
     "execution_count": 85,
     "metadata": {},
     "output_type": "execute_result"
    }
   ],
   "source": [
    "y.shape"
   ]
  },
  {
   "cell_type": "code",
   "execution_count": 86,
   "metadata": {},
   "outputs": [],
   "source": [
    "#划分训练数据和测试数据，其中，80%为训练数据，20%为测试数据\n",
    "split_b = int(data_.shape[0]*0.8)"
   ]
  },
  {
   "cell_type": "code",
   "execution_count": 87,
   "metadata": {},
   "outputs": [],
   "source": [
    "train_x = x[ : split_b]\n",
    "train_y = y[ : split_b]\n",
    "test_x = x[split_b : ]\n",
    "test_y = y[split_b : ]\n"
   ]
  },
  {
   "cell_type": "code",
   "execution_count": 88,
   "metadata": {},
   "outputs": [
    {
     "data": {
      "text/plain": [
       "((31565, 864, 8), (31565, 1))"
      ]
     },
     "execution_count": 88,
     "metadata": {},
     "output_type": "execute_result"
    }
   ],
   "source": [
    "train_x.shape , train_y.shape"
   ]
  },
  {
   "cell_type": "code",
   "execution_count": 89,
   "metadata": {},
   "outputs": [
    {
     "data": {
      "text/plain": [
       "((7892, 864, 8), (7892, 1))"
      ]
     },
     "execution_count": 89,
     "metadata": {},
     "output_type": "execute_result"
    }
   ],
   "source": [
    "test_x.shape , test_y.shape"
   ]
  },
  {
   "cell_type": "code",
   "execution_count": 90,
   "metadata": {},
   "outputs": [],
   "source": [
    "#神经网络喜欢分布在一定范围内的数据，所以要进行数据标准化。\n",
    "#在进行数据标准化过程中需要注意，我们不可能生活在未来，因此标准化减均值除方差的均值和方差应该是训练集上的，不应该包含测试集数据\n",
    "mean = train_x.mean(axis = 0)  #求列上的均值"
   ]
  },
  {
   "cell_type": "code",
   "execution_count": 91,
   "metadata": {},
   "outputs": [
    {
     "data": {
      "text/plain": [
       "array([[0.14687153, 0.14585775, 0.13819103, ..., 0.13809599, 0.14677649,\n",
       "        3.03377158],\n",
       "       [0.14680817, 0.14582607, 0.13822272, ..., 0.13822272, 0.14674481,\n",
       "        3.03586251],\n",
       "       [0.14683985, 0.14579439, 0.1382544 , ..., 0.13815935, 0.14671313,\n",
       "        3.03557738],\n",
       "       ...,\n",
       "       [0.13781087, 0.1382544 , 0.13933154, ..., 0.14522414, 0.14630128,\n",
       "        3.02977982],\n",
       "       [0.13781087, 0.13819103, 0.13933154, ..., 0.1451291 , 0.14645969,\n",
       "        3.02886108],\n",
       "       [0.13777919, 0.13822272, 0.13929986, ..., 0.14531918, 0.14639633,\n",
       "        3.02765722]])"
      ]
     },
     "execution_count": 91,
     "metadata": {},
     "output_type": "execute_result"
    }
   ],
   "source": [
    "mean"
   ]
  },
  {
   "cell_type": "code",
   "execution_count": 92,
   "metadata": {},
   "outputs": [],
   "source": [
    "std = train_x.std(axis = 0,dtype=float)  #求列上的方差"
   ]
  },
  {
   "cell_type": "code",
   "execution_count": 93,
   "metadata": {},
   "outputs": [
    {
     "data": {
      "text/plain": [
       "array([[0.35397781, 0.35296355, 0.34510038, ..., 0.34500071, 0.35388297,\n",
       "        1.3905385 ],\n",
       "       [0.35391459, 0.35293176, 0.34513359, ..., 0.34513359, 0.35385134,\n",
       "        1.38711003],\n",
       "       [0.3539462 , 0.35289997, 0.3451668 , ..., 0.34506716, 0.35381971,\n",
       "        1.38874942],\n",
       "       ...,\n",
       "       [0.34470137, 0.3451668 , 0.34629216, ..., 0.35232668, 0.353408  ,\n",
       "        1.38661437],\n",
       "       [0.34470137, 0.34510038, 0.34629216, ..., 0.35223095, 0.35356647,\n",
       "        1.38824359],\n",
       "       [0.34466807, 0.34513359, 0.34625916, ..., 0.35242236, 0.3535031 ,\n",
       "        1.38872442]])"
      ]
     },
     "execution_count": 93,
     "metadata": {},
     "output_type": "execute_result"
    }
   ],
   "source": [
    "std"
   ]
  },
  {
   "cell_type": "code",
   "execution_count": 94,
   "metadata": {},
   "outputs": [],
   "source": [
    "train_x = (train_x -mean)/std"
   ]
  },
  {
   "cell_type": "code",
   "execution_count": 95,
   "metadata": {},
   "outputs": [],
   "source": [
    "test_x = (test_x - mean)/std"
   ]
  },
  {
   "cell_type": "code",
   "execution_count": 96,
   "metadata": {},
   "outputs": [
    {
     "data": {
      "text/plain": [
       "(31565, 864, 8)"
      ]
     },
     "execution_count": 96,
     "metadata": {},
     "output_type": "execute_result"
    }
   ],
   "source": [
    "train_x.shape"
   ]
  },
  {
   "cell_type": "code",
   "execution_count": 97,
   "metadata": {},
   "outputs": [
    {
     "data": {
      "text/plain": [
       "(31565, 1)"
      ]
     },
     "execution_count": 97,
     "metadata": {},
     "output_type": "execute_result"
    }
   ],
   "source": [
    "train_y.shape"
   ]
  },
  {
   "cell_type": "markdown",
   "metadata": {},
   "source": [
    "# （五）建立模型"
   ]
  },
  {
   "cell_type": "markdown",
   "metadata": {},
   "source": [
    "### 2.LSTM "
   ]
  },
  {
   "cell_type": "code",
   "execution_count": 98,
   "metadata": {},
   "outputs": [],
   "source": [
    "model1 = keras.Sequential()"
   ]
  },
  {
   "cell_type": "code",
   "execution_count": 99,
   "metadata": {},
   "outputs": [],
   "source": [
    "#LSTM网络dense层接受的数据就是三维的\n",
    "model1.add(layers.LSTM(96,input_shape = (train_x.shape[1:]))) #32是隐藏单元数，默认激活函数是tanh\n",
    "model1.add(layers.Dense(1))"
   ]
  },
  {
   "cell_type": "code",
   "execution_count": 100,
   "metadata": {},
   "outputs": [],
   "source": [
    "#使用一个回调函数，在学习中降低学习速率，让前期快速下降，后期缓慢下降，避免错过最优值\n",
    "#监控'val_loss'，如果连续3个'val_loss'不变，就降低学习速率，降低为原来的factor倍，降低到min_lr就停止降低\n",
    "lr_reduce=keras.callbacks.ReduceLROnPlateau('val_loss',patience = 3, factor=0.5, min_lr=0.000001)  "
   ]
  },
  {
   "cell_type": "code",
   "execution_count": 101,
   "metadata": {},
   "outputs": [],
   "source": [
    "#创建EarlyStopping回调函数,monitor参数表示需要监视的指标，一般选择验证集上的损失函数；\n",
    "#patience参数表示当指标不再提升时，模型需要多少个Epoch才停止训练。\n",
    "from keras.callbacks import EarlyStopping\n",
    "early_stopping = EarlyStopping(monitor='val_loss', patience=10)"
   ]
  },
  {
   "cell_type": "code",
   "execution_count": 102,
   "metadata": {},
   "outputs": [],
   "source": [
    "from keras.callbacks import TensorBoard\n",
    "# 创建TensorBoard回调函数\n",
    "tensorboard_callback = TensorBoard(log_dir='logs')"
   ]
  },
  {
   "cell_type": "code",
   "execution_count": 103,
   "metadata": {},
   "outputs": [],
   "source": [
    "model1.compile(optimizer = 'rmsprop',\n",
    "             loss = 'mae',\n",
    "             metrics = ['mae'])"
   ]
  },
  {
   "cell_type": "code",
   "execution_count": 104,
   "metadata": {},
   "outputs": [
    {
     "name": "stdout",
     "output_type": "stream",
     "text": [
      "Model: \"sequential_1\"\n",
      "_________________________________________________________________\n",
      " Layer (type)                Output Shape              Param #   \n",
      "=================================================================\n",
      " lstm_1 (LSTM)               (None, 96)                40320     \n",
      "                                                                 \n",
      " dense_1 (Dense)             (None, 1)                 97        \n",
      "                                                                 \n",
      "=================================================================\n",
      "Total params: 40,417\n",
      "Trainable params: 40,417\n",
      "Non-trainable params: 0\n",
      "_________________________________________________________________\n"
     ]
    }
   ],
   "source": [
    "model1.summary()"
   ]
  },
  {
   "cell_type": "code",
   "execution_count": 105,
   "metadata": {
    "tags": []
   },
   "outputs": [
    {
     "name": "stdout",
     "output_type": "stream",
     "text": [
      "Epoch 1/60\n",
      "WARNING:tensorflow:AutoGraph could not transform <function Model.make_train_function.<locals>.train_function at 0x7f56a817f9e0> and will run it as-is.\n",
      "Please report this to the TensorFlow team. When filing the bug, set the verbosity to 10 (on Linux, `export AUTOGRAPH_VERBOSITY=10`) and attach the full output.\n",
      "Cause: 'arguments' object has no attribute 'posonlyargs'\n",
      "To silence this warning, decorate the function with @tf.autograph.experimental.do_not_convert\n"
     ]
    },
    {
     "name": "stderr",
     "output_type": "stream",
     "text": [
      "WARNING:tensorflow:AutoGraph could not transform <function Model.make_train_function.<locals>.train_function at 0x7f56a817f9e0> and will run it as-is.\n",
      "Please report this to the TensorFlow team. When filing the bug, set the verbosity to 10 (on Linux, `export AUTOGRAPH_VERBOSITY=10`) and attach the full output.\n",
      "Cause: 'arguments' object has no attribute 'posonlyargs'\n",
      "To silence this warning, decorate the function with @tf.autograph.experimental.do_not_convert\n"
     ]
    },
    {
     "name": "stdout",
     "output_type": "stream",
     "text": [
      "WARNING: AutoGraph could not transform <function Model.make_train_function.<locals>.train_function at 0x7f56a817f9e0> and will run it as-is.\n",
      "Please report this to the TensorFlow team. When filing the bug, set the verbosity to 10 (on Linux, `export AUTOGRAPH_VERBOSITY=10`) and attach the full output.\n",
      "Cause: 'arguments' object has no attribute 'posonlyargs'\n",
      "To silence this warning, decorate the function with @tf.autograph.experimental.do_not_convert\n",
      "247/247 [==============================] - ETA: 0s - loss: 0.7855 - mae: 0.7855WARNING:tensorflow:AutoGraph could not transform <function Model.make_test_function.<locals>.test_function at 0x7f56a8217cb0> and will run it as-is.\n",
      "Please report this to the TensorFlow team. When filing the bug, set the verbosity to 10 (on Linux, `export AUTOGRAPH_VERBOSITY=10`) and attach the full output.\n",
      "Cause: 'arguments' object has no attribute 'posonlyargs'\n",
      "To silence this warning, decorate the function with @tf.autograph.experimental.do_not_convert\n"
     ]
    },
    {
     "name": "stderr",
     "output_type": "stream",
     "text": [
      "WARNING:tensorflow:AutoGraph could not transform <function Model.make_test_function.<locals>.test_function at 0x7f56a8217cb0> and will run it as-is.\n",
      "Please report this to the TensorFlow team. When filing the bug, set the verbosity to 10 (on Linux, `export AUTOGRAPH_VERBOSITY=10`) and attach the full output.\n",
      "Cause: 'arguments' object has no attribute 'posonlyargs'\n",
      "To silence this warning, decorate the function with @tf.autograph.experimental.do_not_convert\n"
     ]
    },
    {
     "name": "stdout",
     "output_type": "stream",
     "text": [
      "WARNING: AutoGraph could not transform <function Model.make_test_function.<locals>.test_function at 0x7f56a8217cb0> and will run it as-is.\n",
      "Please report this to the TensorFlow team. When filing the bug, set the verbosity to 10 (on Linux, `export AUTOGRAPH_VERBOSITY=10`) and attach the full output.\n",
      "Cause: 'arguments' object has no attribute 'posonlyargs'\n",
      "To silence this warning, decorate the function with @tf.autograph.experimental.do_not_convert\n",
      "247/247 [==============================] - 206s 827ms/step - loss: 0.7855 - mae: 0.7855 - val_loss: 0.7137 - val_mae: 0.7137 - lr: 0.0010\n",
      "Epoch 2/60\n",
      "247/247 [==============================] - 205s 832ms/step - loss: 0.7020 - mae: 0.7020 - val_loss: 0.7130 - val_mae: 0.7130 - lr: 0.0010\n",
      "Epoch 3/60\n",
      "247/247 [==============================] - 201s 814ms/step - loss: 0.6873 - mae: 0.6873 - val_loss: 0.7040 - val_mae: 0.7040 - lr: 0.0010\n",
      "Epoch 4/60\n",
      "247/247 [==============================] - 202s 820ms/step - loss: 0.6768 - mae: 0.6768 - val_loss: 0.6882 - val_mae: 0.6882 - lr: 0.0010\n",
      "Epoch 5/60\n",
      "247/247 [==============================] - 205s 828ms/step - loss: 0.6684 - mae: 0.6684 - val_loss: 0.6705 - val_mae: 0.6705 - lr: 0.0010\n",
      "Epoch 6/60\n",
      "247/247 [==============================] - 204s 826ms/step - loss: 0.6577 - mae: 0.6577 - val_loss: 0.6897 - val_mae: 0.6897 - lr: 0.0010\n",
      "Epoch 7/60\n",
      "247/247 [==============================] - 208s 841ms/step - loss: 0.6503 - mae: 0.6503 - val_loss: 0.6635 - val_mae: 0.6635 - lr: 0.0010\n",
      "Epoch 8/60\n",
      "247/247 [==============================] - 204s 826ms/step - loss: 0.6413 - mae: 0.6413 - val_loss: 0.6540 - val_mae: 0.6540 - lr: 0.0010\n",
      "Epoch 9/60\n",
      "247/247 [==============================] - 199s 807ms/step - loss: 0.6428 - mae: 0.6428 - val_loss: 0.6563 - val_mae: 0.6563 - lr: 0.0010\n",
      "Epoch 10/60\n",
      "247/247 [==============================] - 203s 824ms/step - loss: 0.6332 - mae: 0.6332 - val_loss: 0.6437 - val_mae: 0.6437 - lr: 0.0010\n",
      "Epoch 11/60\n",
      "247/247 [==============================] - 198s 801ms/step - loss: 0.6280 - mae: 0.6280 - val_loss: 0.6434 - val_mae: 0.6434 - lr: 0.0010\n",
      "Epoch 12/60\n",
      "247/247 [==============================] - 202s 819ms/step - loss: 0.6264 - mae: 0.6264 - val_loss: 0.6454 - val_mae: 0.6454 - lr: 0.0010\n",
      "Epoch 13/60\n",
      "247/247 [==============================] - 198s 801ms/step - loss: 0.6219 - mae: 0.6219 - val_loss: 0.6436 - val_mae: 0.6436 - lr: 0.0010\n",
      "Epoch 14/60\n",
      "247/247 [==============================] - 203s 823ms/step - loss: 0.6227 - mae: 0.6227 - val_loss: 0.6476 - val_mae: 0.6476 - lr: 0.0010\n",
      "Epoch 15/60\n",
      "247/247 [==============================] - 197s 798ms/step - loss: 0.6068 - mae: 0.6068 - val_loss: 0.6288 - val_mae: 0.6288 - lr: 5.0000e-04\n",
      "Epoch 16/60\n",
      "247/247 [==============================] - 198s 804ms/step - loss: 0.6035 - mae: 0.6035 - val_loss: 0.6252 - val_mae: 0.6252 - lr: 5.0000e-04\n",
      "Epoch 17/60\n",
      "247/247 [==============================] - 202s 818ms/step - loss: 0.6004 - mae: 0.6004 - val_loss: 0.6198 - val_mae: 0.6198 - lr: 5.0000e-04\n",
      "Epoch 18/60\n",
      "247/247 [==============================] - 204s 828ms/step - loss: 0.5978 - mae: 0.5978 - val_loss: 0.6238 - val_mae: 0.6238 - lr: 5.0000e-04\n",
      "Epoch 19/60\n",
      "247/247 [==============================] - 202s 820ms/step - loss: 0.5991 - mae: 0.5991 - val_loss: 0.6212 - val_mae: 0.6212 - lr: 5.0000e-04\n",
      "Epoch 20/60\n",
      "247/247 [==============================] - 201s 812ms/step - loss: 0.5949 - mae: 0.5949 - val_loss: 0.6180 - val_mae: 0.6180 - lr: 5.0000e-04\n",
      "Epoch 21/60\n",
      "247/247 [==============================] - 202s 820ms/step - loss: 0.5915 - mae: 0.5915 - val_loss: 0.6187 - val_mae: 0.6187 - lr: 5.0000e-04\n",
      "Epoch 22/60\n",
      "247/247 [==============================] - 203s 822ms/step - loss: 0.5918 - mae: 0.5918 - val_loss: 0.6192 - val_mae: 0.6192 - lr: 5.0000e-04\n",
      "Epoch 23/60\n",
      "247/247 [==============================] - 203s 823ms/step - loss: 0.5901 - mae: 0.5901 - val_loss: 0.6152 - val_mae: 0.6152 - lr: 5.0000e-04\n",
      "Epoch 24/60\n",
      "247/247 [==============================] - 206s 833ms/step - loss: 0.5916 - mae: 0.5916 - val_loss: 0.6172 - val_mae: 0.6172 - lr: 5.0000e-04\n",
      "Epoch 25/60\n",
      "247/247 [==============================] - 203s 823ms/step - loss: 0.5920 - mae: 0.5920 - val_loss: 0.6146 - val_mae: 0.6146 - lr: 5.0000e-04\n",
      "Epoch 26/60\n",
      "247/247 [==============================] - 193s 783ms/step - loss: 0.5901 - mae: 0.5901 - val_loss: 0.6144 - val_mae: 0.6144 - lr: 5.0000e-04\n",
      "Epoch 27/60\n",
      "247/247 [==============================] - 195s 792ms/step - loss: 0.5882 - mae: 0.5882 - val_loss: 0.6143 - val_mae: 0.6143 - lr: 5.0000e-04\n",
      "Epoch 28/60\n",
      "247/247 [==============================] - 197s 800ms/step - loss: 0.5842 - mae: 0.5842 - val_loss: 0.6112 - val_mae: 0.6112 - lr: 5.0000e-04\n",
      "Epoch 29/60\n",
      "247/247 [==============================] - 193s 781ms/step - loss: 0.5839 - mae: 0.5839 - val_loss: 0.6215 - val_mae: 0.6215 - lr: 5.0000e-04\n",
      "Epoch 30/60\n",
      "247/247 [==============================] - 201s 813ms/step - loss: 0.5845 - mae: 0.5845 - val_loss: 0.6058 - val_mae: 0.6058 - lr: 5.0000e-04\n",
      "Epoch 31/60\n",
      "247/247 [==============================] - 198s 801ms/step - loss: 0.5806 - mae: 0.5806 - val_loss: 0.6093 - val_mae: 0.6093 - lr: 5.0000e-04\n",
      "Epoch 32/60\n",
      "247/247 [==============================] - 202s 818ms/step - loss: 0.5795 - mae: 0.5795 - val_loss: 0.6055 - val_mae: 0.6055 - lr: 5.0000e-04\n",
      "Epoch 33/60\n",
      "247/247 [==============================] - 202s 820ms/step - loss: 0.5807 - mae: 0.5807 - val_loss: 0.6074 - val_mae: 0.6074 - lr: 5.0000e-04\n",
      "Epoch 34/60\n",
      "247/247 [==============================] - 198s 802ms/step - loss: 0.5771 - mae: 0.5771 - val_loss: 0.6028 - val_mae: 0.6028 - lr: 5.0000e-04\n",
      "Epoch 35/60\n",
      "247/247 [==============================] - 197s 797ms/step - loss: 0.5765 - mae: 0.5765 - val_loss: 0.6057 - val_mae: 0.6057 - lr: 5.0000e-04\n",
      "Epoch 36/60\n",
      "247/247 [==============================] - 200s 812ms/step - loss: 0.5738 - mae: 0.5738 - val_loss: 0.6003 - val_mae: 0.6003 - lr: 5.0000e-04\n",
      "Epoch 37/60\n",
      "247/247 [==============================] - 201s 814ms/step - loss: 0.5731 - mae: 0.5731 - val_loss: 0.6015 - val_mae: 0.6015 - lr: 5.0000e-04\n",
      "Epoch 38/60\n",
      "247/247 [==============================] - 199s 806ms/step - loss: 0.5712 - mae: 0.5712 - val_loss: 0.6098 - val_mae: 0.6098 - lr: 5.0000e-04\n",
      "Epoch 39/60\n",
      "247/247 [==============================] - 197s 799ms/step - loss: 0.5694 - mae: 0.5694 - val_loss: 0.5986 - val_mae: 0.5986 - lr: 5.0000e-04\n",
      "Epoch 40/60\n",
      "247/247 [==============================] - 205s 830ms/step - loss: 0.5698 - mae: 0.5698 - val_loss: 0.5997 - val_mae: 0.5997 - lr: 5.0000e-04\n",
      "Epoch 41/60\n",
      "247/247 [==============================] - 198s 802ms/step - loss: 0.5670 - mae: 0.5670 - val_loss: 0.5975 - val_mae: 0.5975 - lr: 5.0000e-04\n",
      "Epoch 42/60\n",
      "247/247 [==============================] - 205s 831ms/step - loss: 0.5669 - mae: 0.5669 - val_loss: 0.6060 - val_mae: 0.6060 - lr: 5.0000e-04\n",
      "Epoch 43/60\n",
      "247/247 [==============================] - 200s 812ms/step - loss: 0.5654 - mae: 0.5654 - val_loss: 0.5953 - val_mae: 0.5953 - lr: 5.0000e-04\n",
      "Epoch 44/60\n",
      "247/247 [==============================] - 205s 830ms/step - loss: 0.5651 - mae: 0.5651 - val_loss: 0.5932 - val_mae: 0.5932 - lr: 5.0000e-04\n",
      "Epoch 45/60\n",
      "247/247 [==============================] - 205s 832ms/step - loss: 0.5615 - mae: 0.5615 - val_loss: 0.5982 - val_mae: 0.5982 - lr: 5.0000e-04\n",
      "Epoch 46/60\n",
      "247/247 [==============================] - 208s 844ms/step - loss: 0.5605 - mae: 0.5605 - val_loss: 0.5998 - val_mae: 0.5998 - lr: 5.0000e-04\n",
      "Epoch 47/60\n",
      "247/247 [==============================] - 202s 818ms/step - loss: 0.5582 - mae: 0.5582 - val_loss: 0.5880 - val_mae: 0.5880 - lr: 5.0000e-04\n",
      "Epoch 48/60\n",
      "247/247 [==============================] - 204s 828ms/step - loss: 0.5590 - mae: 0.5590 - val_loss: 0.5865 - val_mae: 0.5865 - lr: 5.0000e-04\n",
      "Epoch 49/60\n",
      "247/247 [==============================] - 201s 813ms/step - loss: 0.5570 - mae: 0.5570 - val_loss: 0.5961 - val_mae: 0.5961 - lr: 5.0000e-04\n",
      "Epoch 50/60\n",
      "247/247 [==============================] - 202s 818ms/step - loss: 0.5579 - mae: 0.5579 - val_loss: 0.5893 - val_mae: 0.5893 - lr: 5.0000e-04\n",
      "Epoch 51/60\n",
      "247/247 [==============================] - 202s 816ms/step - loss: 0.5565 - mae: 0.5565 - val_loss: 0.5866 - val_mae: 0.5866 - lr: 5.0000e-04\n",
      "Epoch 52/60\n",
      "247/247 [==============================] - 199s 806ms/step - loss: 0.5462 - mae: 0.5462 - val_loss: 0.5788 - val_mae: 0.5788 - lr: 2.5000e-04\n",
      "Epoch 53/60\n",
      "247/247 [==============================] - 203s 821ms/step - loss: 0.5427 - mae: 0.5427 - val_loss: 0.5772 - val_mae: 0.5772 - lr: 2.5000e-04\n",
      "Epoch 54/60\n",
      "247/247 [==============================] - 201s 816ms/step - loss: 0.5429 - mae: 0.5429 - val_loss: 0.5757 - val_mae: 0.5757 - lr: 2.5000e-04\n",
      "Epoch 55/60\n",
      "247/247 [==============================] - 204s 828ms/step - loss: 0.5419 - mae: 0.5419 - val_loss: 0.5791 - val_mae: 0.5791 - lr: 2.5000e-04\n",
      "Epoch 56/60\n",
      "247/247 [==============================] - 201s 816ms/step - loss: 0.5421 - mae: 0.5421 - val_loss: 0.5771 - val_mae: 0.5771 - lr: 2.5000e-04\n",
      "Epoch 57/60\n",
      "247/247 [==============================] - 201s 815ms/step - loss: 0.5413 - mae: 0.5413 - val_loss: 0.5741 - val_mae: 0.5741 - lr: 2.5000e-04\n",
      "Epoch 58/60\n",
      "247/247 [==============================] - 203s 823ms/step - loss: 0.5393 - mae: 0.5393 - val_loss: 0.5725 - val_mae: 0.5725 - lr: 2.5000e-04\n",
      "Epoch 59/60\n",
      "247/247 [==============================] - 202s 818ms/step - loss: 0.5388 - mae: 0.5388 - val_loss: 0.5724 - val_mae: 0.5724 - lr: 2.5000e-04\n",
      "Epoch 60/60\n",
      "247/247 [==============================] - 198s 801ms/step - loss: 0.5375 - mae: 0.5375 - val_loss: 0.5750 - val_mae: 0.5750 - lr: 2.5000e-04\n"
     ]
    }
   ],
   "source": [
    "import time\n",
    "start_time = time.time()\n",
    "history1 = model1.fit(train_x.astype(np.float32),train_y.astype(np.float32),\n",
    "                    batch_size = 128,\n",
    "                    epochs = 60,\n",
    "                    callbacks = [lr_reduce,early_stopping],\n",
    "                    validation_data = (test_x.astype(np.float32), test_y.astype(np.float32)))"
   ]
  },
  {
   "cell_type": "code",
   "execution_count": 107,
   "metadata": {},
   "outputs": [
    {
     "name": "stdout",
     "output_type": "stream",
     "text": [
      "模型训练时间为：12672.57秒\n"
     ]
    }
   ],
   "source": [
    "end_time = time.time()\n",
    "run_time = end_time - start_time\n",
    "print(\"模型训练时间为：{:.2f}秒\".format(run_time))"
   ]
  },
  {
   "cell_type": "code",
   "execution_count": 108,
   "metadata": {},
   "outputs": [
    {
     "data": {
      "text/plain": [
       "dict_keys(['loss', 'mae', 'val_loss', 'val_mae', 'lr'])"
      ]
     },
     "execution_count": 108,
     "metadata": {},
     "output_type": "execute_result"
    }
   ],
   "source": [
    "history1.history.keys()"
   ]
  },
  {
   "cell_type": "code",
   "execution_count": 109,
   "metadata": {},
   "outputs": [
    {
     "data": {
      "text/plain": [
       "[<matplotlib.lines.Line2D at 0x7f56884d1d50>]"
      ]
     },
     "execution_count": 109,
     "metadata": {},
     "output_type": "execute_result"
    },
    {
     "data": {
      "image/png": "[encoded data removed]",
      "text/plain": [
       "<Figure size 432x288 with 1 Axes>"
      ]
     },
     "metadata": {
      "needs_background": "light"
     },
     "output_type": "display_data"
    }
   ],
   "source": [
    "plt.plot(history1.epoch,history1.history['mae'],c='b')\n",
    "plt.plot(history1.epoch,history1.history['val_mae'],c='r')"
   ]
  },
  {
   "cell_type": "markdown",
   "metadata": {},
   "source": [
    "model1.evaluate(test_x.astype(np.float32), test_y.astype(np.float32),verbose =0)"
   ]
  },
  {
   "cell_type": "code",
   "execution_count": 110,
   "metadata": {},
   "outputs": [
    {
     "name": "stdout",
     "output_type": "stream",
     "text": [
      "WARNING:tensorflow:AutoGraph could not transform <function trace_model_call.<locals>._wrapped_model at 0x7f584e6afdd0> and will run it as-is.\n",
      "Please report this to the TensorFlow team. When filing the bug, set the verbosity to 10 (on Linux, `export AUTOGRAPH_VERBOSITY=10`) and attach the full output.\n",
      "Cause: 'arguments' object has no attribute 'posonlyargs'\n",
      "To silence this warning, decorate the function with @tf.autograph.experimental.do_not_convert\n"
     ]
    },
    {
     "name": "stderr",
     "output_type": "stream",
     "text": [
      "WARNING:tensorflow:AutoGraph could not transform <function trace_model_call.<locals>._wrapped_model at 0x7f584e6afdd0> and will run it as-is.\n",
      "Please report this to the TensorFlow team. When filing the bug, set the verbosity to 10 (on Linux, `export AUTOGRAPH_VERBOSITY=10`) and attach the full output.\n",
      "Cause: 'arguments' object has no attribute 'posonlyargs'\n",
      "To silence this warning, decorate the function with @tf.autograph.experimental.do_not_convert\n"
     ]
    },
    {
     "name": "stdout",
     "output_type": "stream",
     "text": [
      "WARNING: AutoGraph could not transform <function trace_model_call.<locals>._wrapped_model at 0x7f584e6afdd0> and will run it as-is.\n",
      "Please report this to the TensorFlow team. When filing the bug, set the verbosity to 10 (on Linux, `export AUTOGRAPH_VERBOSITY=10`) and attach the full output.\n",
      "Cause: 'arguments' object has no attribute 'posonlyargs'\n",
      "To silence this warning, decorate the function with @tf.autograph.experimental.do_not_convert\n",
      "WARNING:tensorflow:AutoGraph could not transform <function canonicalize_signatures.<locals>.signature_wrapper at 0x7f5738da4b90> and will run it as-is.\n",
      "Please report this to the TensorFlow team. When filing the bug, set the verbosity to 10 (on Linux, `export AUTOGRAPH_VERBOSITY=10`) and attach the full output.\n",
      "Cause: 'arguments' object has no attribute 'posonlyargs'\n",
      "To silence this warning, decorate the function with @tf.autograph.experimental.do_not_convert\n"
     ]
    },
    {
     "name": "stderr",
     "output_type": "stream",
     "text": [
      "WARNING:tensorflow:AutoGraph could not transform <function canonicalize_signatures.<locals>.signature_wrapper at 0x7f5738da4b90> and will run it as-is.\n",
      "Please report this to the TensorFlow team. When filing the bug, set the verbosity to 10 (on Linux, `export AUTOGRAPH_VERBOSITY=10`) and attach the full output.\n",
      "Cause: 'arguments' object has no attribute 'posonlyargs'\n",
      "To silence this warning, decorate the function with @tf.autograph.experimental.do_not_convert\n"
     ]
    },
    {
     "name": "stdout",
     "output_type": "stream",
     "text": [
      "WARNING: AutoGraph could not transform <function canonicalize_signatures.<locals>.signature_wrapper at 0x7f5738da4b90> and will run it as-is.\n",
      "Please report this to the TensorFlow team. When filing the bug, set the verbosity to 10 (on Linux, `export AUTOGRAPH_VERBOSITY=10`) and attach the full output.\n",
      "Cause: 'arguments' object has no attribute 'posonlyargs'\n",
      "To silence this warning, decorate the function with @tf.autograph.experimental.do_not_convert\n"
     ]
    },
    {
     "name": "stderr",
     "output_type": "stream",
     "text": [
      "WARNING:absl:Found untraced functions such as _update_step_xla, lstm_cell_1_layer_call_fn, lstm_cell_1_layer_call_and_return_conditional_losses while saving (showing 3 of 3). These functions will not be directly callable after loading.\n"
     ]
    },
    {
     "name": "stdout",
     "output_type": "stream",
     "text": [
      "INFO:tensorflow:Assets written to: TCI_prediction_road54_model/assets\n"
     ]
    },
    {
     "name": "stderr",
     "output_type": "stream",
     "text": [
      "INFO:tensorflow:Assets written to: TCI_prediction_road54_model/assets\n"
     ]
    }
   ],
   "source": [
    "#保存模型\n",
    "model1.save('TCI_prediction_road%d_model'%number)"
   ]
  },
  {
   "cell_type": "markdown",
   "metadata": {},
   "source": [
    "# （六）数据预测"
   ]
  },
  {
   "cell_type": "code",
   "execution_count": 111,
   "metadata": {
    "tags": []
   },
   "outputs": [
    {
     "data": {
      "text/html": [
       "<div>\n",
       "<style scoped>\n",
       "    .dataframe tbody tr th:only-of-type {\n",
       "        vertical-align: middle;\n",
       "    }\n",
       "\n",
       "    .dataframe tbody tr th {\n",
       "        vertical-align: top;\n",
       "    }\n",
       "\n",
       "    .dataframe thead th {\n",
       "        text-align: right;\n",
       "    }\n",
       "</style>\n",
       "<table border=\"1\" class=\"dataframe\">\n",
       "  <thead>\n",
       "    <tr style=\"text-align: right;\">\n",
       "      <th></th>\n",
       "      <th>date</th>\n",
       "      <th>Monday</th>\n",
       "      <th>Tuesday</th>\n",
       "      <th>Wednesday</th>\n",
       "      <th>Thursday</th>\n",
       "      <th>Friday</th>\n",
       "      <th>Saturday</th>\n",
       "      <th>Sunday</th>\n",
       "      <th>EXPONENT</th>\n",
       "    </tr>\n",
       "  </thead>\n",
       "  <tbody>\n",
       "    <tr>\n",
       "      <th>40609</th>\n",
       "      <td>2018/11/19 0:05</td>\n",
       "      <td>0</td>\n",
       "      <td>1</td>\n",
       "      <td>0</td>\n",
       "      <td>0</td>\n",
       "      <td>0</td>\n",
       "      <td>0</td>\n",
       "      <td>0</td>\n",
       "      <td>2</td>\n",
       "    </tr>\n",
       "    <tr>\n",
       "      <th>40610</th>\n",
       "      <td>2018/11/19 0:10</td>\n",
       "      <td>0</td>\n",
       "      <td>1</td>\n",
       "      <td>0</td>\n",
       "      <td>0</td>\n",
       "      <td>0</td>\n",
       "      <td>0</td>\n",
       "      <td>0</td>\n",
       "      <td>1</td>\n",
       "    </tr>\n",
       "    <tr>\n",
       "      <th>40611</th>\n",
       "      <td>2018/11/19 0:15</td>\n",
       "      <td>0</td>\n",
       "      <td>1</td>\n",
       "      <td>0</td>\n",
       "      <td>0</td>\n",
       "      <td>0</td>\n",
       "      <td>0</td>\n",
       "      <td>0</td>\n",
       "      <td>2</td>\n",
       "    </tr>\n",
       "    <tr>\n",
       "      <th>40612</th>\n",
       "      <td>2018/11/19 0:20</td>\n",
       "      <td>0</td>\n",
       "      <td>1</td>\n",
       "      <td>0</td>\n",
       "      <td>0</td>\n",
       "      <td>0</td>\n",
       "      <td>0</td>\n",
       "      <td>0</td>\n",
       "      <td>2</td>\n",
       "    </tr>\n",
       "    <tr>\n",
       "      <th>40613</th>\n",
       "      <td>2018/11/19 0:25</td>\n",
       "      <td>0</td>\n",
       "      <td>1</td>\n",
       "      <td>0</td>\n",
       "      <td>0</td>\n",
       "      <td>0</td>\n",
       "      <td>0</td>\n",
       "      <td>0</td>\n",
       "      <td>1</td>\n",
       "    </tr>\n",
       "    <tr>\n",
       "      <th>...</th>\n",
       "      <td>...</td>\n",
       "      <td>...</td>\n",
       "      <td>...</td>\n",
       "      <td>...</td>\n",
       "      <td>...</td>\n",
       "      <td>...</td>\n",
       "      <td>...</td>\n",
       "      <td>...</td>\n",
       "      <td>...</td>\n",
       "    </tr>\n",
       "    <tr>\n",
       "      <th>42043</th>\n",
       "      <td>2018/11/23 23:35</td>\n",
       "      <td>0</td>\n",
       "      <td>0</td>\n",
       "      <td>0</td>\n",
       "      <td>0</td>\n",
       "      <td>0</td>\n",
       "      <td>1</td>\n",
       "      <td>0</td>\n",
       "      <td>2</td>\n",
       "    </tr>\n",
       "    <tr>\n",
       "      <th>42044</th>\n",
       "      <td>2018/11/23 23:40</td>\n",
       "      <td>0</td>\n",
       "      <td>0</td>\n",
       "      <td>0</td>\n",
       "      <td>0</td>\n",
       "      <td>0</td>\n",
       "      <td>1</td>\n",
       "      <td>0</td>\n",
       "      <td>2</td>\n",
       "    </tr>\n",
       "    <tr>\n",
       "      <th>42045</th>\n",
       "      <td>2018/11/23 23:45</td>\n",
       "      <td>0</td>\n",
       "      <td>0</td>\n",
       "      <td>0</td>\n",
       "      <td>0</td>\n",
       "      <td>0</td>\n",
       "      <td>1</td>\n",
       "      <td>0</td>\n",
       "      <td>2</td>\n",
       "    </tr>\n",
       "    <tr>\n",
       "      <th>42046</th>\n",
       "      <td>2018/11/23 23:50</td>\n",
       "      <td>0</td>\n",
       "      <td>0</td>\n",
       "      <td>0</td>\n",
       "      <td>0</td>\n",
       "      <td>0</td>\n",
       "      <td>1</td>\n",
       "      <td>0</td>\n",
       "      <td>2</td>\n",
       "    </tr>\n",
       "    <tr>\n",
       "      <th>42047</th>\n",
       "      <td>2018/11/23 23:55</td>\n",
       "      <td>0</td>\n",
       "      <td>0</td>\n",
       "      <td>0</td>\n",
       "      <td>0</td>\n",
       "      <td>0</td>\n",
       "      <td>1</td>\n",
       "      <td>0</td>\n",
       "      <td>2</td>\n",
       "    </tr>\n",
       "  </tbody>\n",
       "</table>\n",
       "<p>1439 rows × 9 columns</p>\n",
       "</div>"
      ],
      "text/plain": [
       "                   date  Monday  Tuesday  Wednesday  Thursday  Friday  \\\n",
       "40609   2018/11/19 0:05       0        1          0         0       0   \n",
       "40610   2018/11/19 0:10       0        1          0         0       0   \n",
       "40611   2018/11/19 0:15       0        1          0         0       0   \n",
       "40612   2018/11/19 0:20       0        1          0         0       0   \n",
       "40613   2018/11/19 0:25       0        1          0         0       0   \n",
       "...                 ...     ...      ...        ...       ...     ...   \n",
       "42043  2018/11/23 23:35       0        0          0         0       0   \n",
       "42044  2018/11/23 23:40       0        0          0         0       0   \n",
       "42045  2018/11/23 23:45       0        0          0         0       0   \n",
       "42046  2018/11/23 23:50       0        0          0         0       0   \n",
       "42047  2018/11/23 23:55       0        0          0         0       0   \n",
       "\n",
       "       Saturday  Sunday  EXPONENT  \n",
       "40609         0       0         2  \n",
       "40610         0       0         1  \n",
       "40611         0       0         2  \n",
       "40612         0       0         2  \n",
       "40613         0       0         1  \n",
       "...         ...     ...       ...  \n",
       "42043         1       0         2  \n",
       "42044         1       0         2  \n",
       "42045         1       0         2  \n",
       "42046         1       0         2  \n",
       "42047         1       0         2  \n",
       "\n",
       "[1439 rows x 9 columns]"
      ]
     },
     "execution_count": 111,
     "metadata": {},
     "output_type": "execute_result"
    }
   ],
   "source": [
    "corrected_roadData.tail(288*5-1)"
   ]
  },
  {
   "cell_type": "code",
   "execution_count": 112,
   "metadata": {
    "tags": []
   },
   "outputs": [
    {
     "data": {
      "text/plain": [
       "array([[0, 1, 0, ..., 0, 0, 2],\n",
       "       [0, 1, 0, ..., 0, 0, 1],\n",
       "       [0, 1, 0, ..., 0, 0, 2],\n",
       "       ...,\n",
       "       [0, 0, 0, ..., 1, 0, 2],\n",
       "       [0, 0, 0, ..., 1, 0, 2],\n",
       "       [0, 0, 0, ..., 1, 0, 2]])"
      ]
     },
     "execution_count": 112,
     "metadata": {},
     "output_type": "execute_result"
    }
   ],
   "source": [
    "#因为是一个单输入和单输出，所以只需要提取出roadData中的第三列数据，然后重新赋值给roadData即可\n",
    "#因为要预测2018年11月24日的数据，因此获取后面的倒数288*5天的数据\n",
    "#此时输出的结果是一个二维array数组\n",
    "for_predict_roadData = corrected_roadData.iloc[40609:,1:].values\n",
    "for_predict_roadData"
   ]
  },
  {
   "cell_type": "code",
   "execution_count": 113,
   "metadata": {},
   "outputs": [
    {
     "data": {
      "text/plain": [
       "(1439, 8)"
      ]
     },
     "execution_count": 113,
     "metadata": {},
     "output_type": "execute_result"
    }
   ],
   "source": [
    "for_predict_roadData.shape"
   ]
  },
  {
   "cell_type": "code",
   "execution_count": 114,
   "metadata": {
    "tags": []
   },
   "outputs": [],
   "source": [
    "#创建一个空列表for_predict_data_，每六天的数据为一组（共1152条），将全部数据（共76032条）去除用于预测的数据（2015条）进行划分（全部数据量/六天的数据总量）组，每条数据只有一个变量\n",
    "for_predict_data_= []\n",
    "for i in range(len(for_predict_roadData)-sequence_len-delay+1):\n",
    "    for_predict_data_.append(for_predict_roadData[i:i+sequence_len+delay])\n",
    "#把data_转化为array数组，三维（全部数据量，每组数据量，每条数据所含变量）\n",
    "for_predict_data_ = np.array(for_predict_data_)"
   ]
  },
  {
   "cell_type": "code",
   "execution_count": 115,
   "metadata": {},
   "outputs": [
    {
     "data": {
      "text/plain": [
       "(288, 1152, 8)"
      ]
     },
     "execution_count": 115,
     "metadata": {},
     "output_type": "execute_result"
    }
   ],
   "source": [
    "for_predict_data_.shape"
   ]
  },
  {
   "cell_type": "code",
   "execution_count": 116,
   "metadata": {},
   "outputs": [],
   "source": [
    "#高维数组切片，切出x（特征）和y（标签）\n",
    "for_predict_x = for_predict_data_[: , :3*288, : ]"
   ]
  },
  {
   "cell_type": "code",
   "execution_count": 117,
   "metadata": {},
   "outputs": [],
   "source": [
    "for_predict_y = for_predict_data_[: ,-1, 7:]"
   ]
  },
  {
   "cell_type": "code",
   "execution_count": 118,
   "metadata": {
    "tags": []
   },
   "outputs": [
    {
     "data": {
      "text/plain": [
       "array([[[0, 1, 0, ..., 0, 0, 2],\n",
       "        [0, 1, 0, ..., 0, 0, 1],\n",
       "        [0, 1, 0, ..., 0, 0, 2],\n",
       "        ...,\n",
       "        [0, 0, 0, ..., 0, 0, 3],\n",
       "        [0, 0, 0, ..., 0, 0, 2],\n",
       "        [0, 0, 0, ..., 0, 0, 1]],\n",
       "\n",
       "       [[0, 1, 0, ..., 0, 0, 1],\n",
       "        [0, 1, 0, ..., 0, 0, 2],\n",
       "        [0, 1, 0, ..., 0, 0, 2],\n",
       "        ...,\n",
       "        [0, 0, 0, ..., 0, 0, 2],\n",
       "        [0, 0, 0, ..., 0, 0, 1],\n",
       "        [0, 0, 0, ..., 0, 0, 1]],\n",
       "\n",
       "       [[0, 1, 0, ..., 0, 0, 2],\n",
       "        [0, 1, 0, ..., 0, 0, 2],\n",
       "        [0, 1, 0, ..., 0, 0, 1],\n",
       "        ...,\n",
       "        [0, 0, 0, ..., 0, 0, 1],\n",
       "        [0, 0, 0, ..., 0, 0, 1],\n",
       "        [0, 0, 0, ..., 0, 0, 1]],\n",
       "\n",
       "       ...,\n",
       "\n",
       "       [[0, 1, 0, ..., 0, 0, 1],\n",
       "        [0, 1, 0, ..., 0, 0, 2],\n",
       "        [0, 0, 1, ..., 0, 0, 1],\n",
       "        ...,\n",
       "        [0, 0, 0, ..., 0, 0, 1],\n",
       "        [0, 0, 0, ..., 0, 0, 2],\n",
       "        [0, 0, 0, ..., 0, 0, 1]],\n",
       "\n",
       "       [[0, 1, 0, ..., 0, 0, 2],\n",
       "        [0, 0, 1, ..., 0, 0, 1],\n",
       "        [0, 0, 1, ..., 0, 0, 2],\n",
       "        ...,\n",
       "        [0, 0, 0, ..., 0, 0, 2],\n",
       "        [0, 0, 0, ..., 0, 0, 1],\n",
       "        [0, 0, 0, ..., 0, 0, 2]],\n",
       "\n",
       "       [[0, 0, 1, ..., 0, 0, 1],\n",
       "        [0, 0, 1, ..., 0, 0, 2],\n",
       "        [0, 0, 1, ..., 0, 0, 2],\n",
       "        ...,\n",
       "        [0, 0, 0, ..., 0, 0, 1],\n",
       "        [0, 0, 0, ..., 0, 0, 2],\n",
       "        [0, 0, 0, ..., 0, 0, 1]]])"
      ]
     },
     "execution_count": 118,
     "metadata": {},
     "output_type": "execute_result"
    }
   ],
   "source": [
    "for_predict_x "
   ]
  },
  {
   "cell_type": "code",
   "execution_count": 119,
   "metadata": {},
   "outputs": [],
   "source": [
    "for_predict_x = (for_predict_x - mean)/std"
   ]
  },
  {
   "cell_type": "code",
   "execution_count": 120,
   "metadata": {
    "tags": []
   },
   "outputs": [
    {
     "data": {
      "text/plain": [
       "array([[1],\n",
       "       [1],\n",
       "       [2],\n",
       "       [2],\n",
       "       [1],\n",
       "       [1],\n",
       "       [2],\n",
       "       [1],\n",
       "       [1],\n",
       "       [1],\n",
       "       [1],\n",
       "       [2],\n",
       "       [1],\n",
       "       [2],\n",
       "       [1],\n",
       "       [2],\n",
       "       [1],\n",
       "       [3],\n",
       "       [2],\n",
       "       [2],\n",
       "       [1],\n",
       "       [1],\n",
       "       [1],\n",
       "       [1],\n",
       "       [1],\n",
       "       [1],\n",
       "       [1],\n",
       "       [1],\n",
       "       [1],\n",
       "       [1],\n",
       "       [1],\n",
       "       [1],\n",
       "       [1],\n",
       "       [2],\n",
       "       [1],\n",
       "       [2],\n",
       "       [3],\n",
       "       [1],\n",
       "       [3],\n",
       "       [1],\n",
       "       [2],\n",
       "       [2],\n",
       "       [2],\n",
       "       [2],\n",
       "       [1],\n",
       "       [3],\n",
       "       [1],\n",
       "       [1],\n",
       "       [2],\n",
       "       [3],\n",
       "       [3],\n",
       "       [4],\n",
       "       [3],\n",
       "       [1],\n",
       "       [3],\n",
       "       [1],\n",
       "       [3],\n",
       "       [3],\n",
       "       [1],\n",
       "       [2],\n",
       "       [2],\n",
       "       [1],\n",
       "       [1],\n",
       "       [1],\n",
       "       [2],\n",
       "       [1],\n",
       "       [1],\n",
       "       [1],\n",
       "       [1],\n",
       "       [2],\n",
       "       [2],\n",
       "       [2],\n",
       "       [3],\n",
       "       [2],\n",
       "       [2],\n",
       "       [2],\n",
       "       [1],\n",
       "       [1],\n",
       "       [2],\n",
       "       [3],\n",
       "       [3],\n",
       "       [2],\n",
       "       [1],\n",
       "       [2],\n",
       "       [2],\n",
       "       [1],\n",
       "       [2],\n",
       "       [3],\n",
       "       [3],\n",
       "       [3],\n",
       "       [4],\n",
       "       [3],\n",
       "       [4],\n",
       "       [3],\n",
       "       [2],\n",
       "       [3],\n",
       "       [2],\n",
       "       [3],\n",
       "       [3],\n",
       "       [2],\n",
       "       [3],\n",
       "       [3],\n",
       "       [3],\n",
       "       [3],\n",
       "       [3],\n",
       "       [3],\n",
       "       [3],\n",
       "       [3],\n",
       "       [3],\n",
       "       [3],\n",
       "       [3],\n",
       "       [3],\n",
       "       [3],\n",
       "       [4],\n",
       "       [4],\n",
       "       [4],\n",
       "       [3],\n",
       "       [3],\n",
       "       [4],\n",
       "       [4],\n",
       "       [3],\n",
       "       [3],\n",
       "       [4],\n",
       "       [4],\n",
       "       [4],\n",
       "       [4],\n",
       "       [4],\n",
       "       [4],\n",
       "       [4],\n",
       "       [4],\n",
       "       [4],\n",
       "       [4],\n",
       "       [3],\n",
       "       [4],\n",
       "       [4],\n",
       "       [4],\n",
       "       [3],\n",
       "       [4],\n",
       "       [3],\n",
       "       [3],\n",
       "       [3],\n",
       "       [4],\n",
       "       [4],\n",
       "       [4],\n",
       "       [4],\n",
       "       [3],\n",
       "       [4],\n",
       "       [3],\n",
       "       [2],\n",
       "       [3],\n",
       "       [3],\n",
       "       [2],\n",
       "       [3],\n",
       "       [2],\n",
       "       [3],\n",
       "       [3],\n",
       "       [2],\n",
       "       [3],\n",
       "       [3],\n",
       "       [3],\n",
       "       [3],\n",
       "       [3],\n",
       "       [3],\n",
       "       [3],\n",
       "       [3],\n",
       "       [3],\n",
       "       [3],\n",
       "       [3],\n",
       "       [4],\n",
       "       [4],\n",
       "       [3],\n",
       "       [3],\n",
       "       [3],\n",
       "       [4],\n",
       "       [3],\n",
       "       [4],\n",
       "       [4],\n",
       "       [4],\n",
       "       [4],\n",
       "       [4],\n",
       "       [4],\n",
       "       [4],\n",
       "       [4],\n",
       "       [5],\n",
       "       [3],\n",
       "       [4],\n",
       "       [4],\n",
       "       [4],\n",
       "       [4],\n",
       "       [4],\n",
       "       [5],\n",
       "       [4],\n",
       "       [3],\n",
       "       [4],\n",
       "       [3],\n",
       "       [4],\n",
       "       [4],\n",
       "       [4],\n",
       "       [4],\n",
       "       [4],\n",
       "       [4],\n",
       "       [4],\n",
       "       [4],\n",
       "       [4],\n",
       "       [4],\n",
       "       [4],\n",
       "       [4],\n",
       "       [4],\n",
       "       [4],\n",
       "       [4],\n",
       "       [4],\n",
       "       [4],\n",
       "       [5],\n",
       "       [5],\n",
       "       [5],\n",
       "       [5],\n",
       "       [6],\n",
       "       [6],\n",
       "       [6],\n",
       "       [5],\n",
       "       [5],\n",
       "       [6],\n",
       "       [5],\n",
       "       [5],\n",
       "       [5],\n",
       "       [5],\n",
       "       [5],\n",
       "       [4],\n",
       "       [4],\n",
       "       [4],\n",
       "       [4],\n",
       "       [4],\n",
       "       [3],\n",
       "       [3],\n",
       "       [3],\n",
       "       [3],\n",
       "       [3],\n",
       "       [3],\n",
       "       [3],\n",
       "       [3],\n",
       "       [3],\n",
       "       [4],\n",
       "       [3],\n",
       "       [3],\n",
       "       [3],\n",
       "       [4],\n",
       "       [3],\n",
       "       [3],\n",
       "       [3],\n",
       "       [3],\n",
       "       [3],\n",
       "       [3],\n",
       "       [3],\n",
       "       [3],\n",
       "       [3],\n",
       "       [3],\n",
       "       [2],\n",
       "       [3],\n",
       "       [2],\n",
       "       [2],\n",
       "       [3],\n",
       "       [2],\n",
       "       [3],\n",
       "       [2],\n",
       "       [2],\n",
       "       [2],\n",
       "       [3],\n",
       "       [3],\n",
       "       [2],\n",
       "       [2],\n",
       "       [2],\n",
       "       [3],\n",
       "       [2],\n",
       "       [3],\n",
       "       [3],\n",
       "       [2],\n",
       "       [2],\n",
       "       [2],\n",
       "       [2],\n",
       "       [2],\n",
       "       [1],\n",
       "       [2],\n",
       "       [2],\n",
       "       [2],\n",
       "       [2],\n",
       "       [2],\n",
       "       [2],\n",
       "       [2]])"
      ]
     },
     "execution_count": 120,
     "metadata": {},
     "output_type": "execute_result"
    }
   ],
   "source": [
    "for_predict_y"
   ]
  },
  {
   "cell_type": "code",
   "execution_count": 121,
   "metadata": {},
   "outputs": [
    {
     "name": "stdout",
     "output_type": "stream",
     "text": [
      "WARNING:tensorflow:AutoGraph could not transform <function Model.make_predict_function.<locals>.predict_function at 0x7f56a80b9cb0> and will run it as-is.\n",
      "Please report this to the TensorFlow team. When filing the bug, set the verbosity to 10 (on Linux, `export AUTOGRAPH_VERBOSITY=10`) and attach the full output.\n",
      "Cause: 'arguments' object has no attribute 'posonlyargs'\n",
      "To silence this warning, decorate the function with @tf.autograph.experimental.do_not_convert\n"
     ]
    },
    {
     "name": "stderr",
     "output_type": "stream",
     "text": [
      "WARNING:tensorflow:AutoGraph could not transform <function Model.make_predict_function.<locals>.predict_function at 0x7f56a80b9cb0> and will run it as-is.\n",
      "Please report this to the TensorFlow team. When filing the bug, set the verbosity to 10 (on Linux, `export AUTOGRAPH_VERBOSITY=10`) and attach the full output.\n",
      "Cause: 'arguments' object has no attribute 'posonlyargs'\n",
      "To silence this warning, decorate the function with @tf.autograph.experimental.do_not_convert\n"
     ]
    },
    {
     "name": "stdout",
     "output_type": "stream",
     "text": [
      "WARNING: AutoGraph could not transform <function Model.make_predict_function.<locals>.predict_function at 0x7f56a80b9cb0> and will run it as-is.\n",
      "Please report this to the TensorFlow team. When filing the bug, set the verbosity to 10 (on Linux, `export AUTOGRAPH_VERBOSITY=10`) and attach the full output.\n",
      "Cause: 'arguments' object has no attribute 'posonlyargs'\n",
      "To silence this warning, decorate the function with @tf.autograph.experimental.do_not_convert\n",
      "9/9 [==============================] - 1s 121ms/step\n"
     ]
    }
   ],
   "source": [
    "#一次性预测未来多个时刻的数据\n",
    "pre_test = model1.predict(for_predict_x.astype(np.float32))"
   ]
  },
  {
   "cell_type": "code",
   "execution_count": 122,
   "metadata": {},
   "outputs": [
    {
     "data": {
      "text/plain": [
       "(288, 1)"
      ]
     },
     "execution_count": 122,
     "metadata": {},
     "output_type": "execute_result"
    }
   ],
   "source": [
    "pre_test.shape"
   ]
  },
  {
   "cell_type": "code",
   "execution_count": 123,
   "metadata": {},
   "outputs": [
    {
     "name": "stdout",
     "output_type": "stream",
     "text": [
      "[[1.9221141 ]\n",
      " [1.9387088 ]\n",
      " [1.9343488 ]\n",
      " [1.9401145 ]\n",
      " [1.9083364 ]\n",
      " [1.8026228 ]\n",
      " [1.6663909 ]\n",
      " [1.5083566 ]\n",
      " [1.3256385 ]\n",
      " [1.1913064 ]\n",
      " [1.086967  ]\n",
      " [1.0257354 ]\n",
      " [1.0138752 ]\n",
      " [1.0086215 ]\n",
      " [1.0114441 ]\n",
      " [1.015095  ]\n",
      " [1.0183607 ]\n",
      " [1.0209993 ]\n",
      " [1.0261707 ]\n",
      " [1.0097994 ]\n",
      " [1.0254264 ]\n",
      " [1.0241988 ]\n",
      " [1.0254836 ]\n",
      " [1.0300192 ]\n",
      " [1.0244346 ]\n",
      " [1.0121044 ]\n",
      " [1.0279132 ]\n",
      " [1.0148048 ]\n",
      " [1.0255587 ]\n",
      " [0.9979332 ]\n",
      " [1.0170767 ]\n",
      " [1.004614  ]\n",
      " [1.0083373 ]\n",
      " [1.0095274 ]\n",
      " [1.0118749 ]\n",
      " [1.0146654 ]\n",
      " [1.0172911 ]\n",
      " [1.0194237 ]\n",
      " [1.0208163 ]\n",
      " [1.0213714 ]\n",
      " [1.0217888 ]\n",
      " [1.0184412 ]\n",
      " [1.0179843 ]\n",
      " [1.0144331 ]\n",
      " [1.0062296 ]\n",
      " [0.99267197]\n",
      " [0.9850636 ]\n",
      " [0.9823799 ]\n",
      " [1.0222285 ]\n",
      " [1.0369225 ]\n",
      " [1.03375   ]\n",
      " [1.0310749 ]\n",
      " [1.0290482 ]\n",
      " [1.0275764 ]\n",
      " [1.0265753 ]\n",
      " [1.0262008 ]\n",
      " [1.0261731 ]\n",
      " [1.0263741 ]\n",
      " [1.0268724 ]\n",
      " [1.0471197 ]\n",
      " [1.1497705 ]\n",
      " [1.2842999 ]\n",
      " [1.4590375 ]\n",
      " [1.7579916 ]\n",
      " [1.8838174 ]\n",
      " [1.9562495 ]\n",
      " [1.9845057 ]\n",
      " [1.9974082 ]\n",
      " [1.9940434 ]\n",
      " [2.001395  ]\n",
      " [2.0000153 ]\n",
      " [1.9895003 ]\n",
      " [1.986243  ]\n",
      " [1.9866378 ]\n",
      " [1.9890804 ]\n",
      " [2.0350018 ]\n",
      " [1.9849689 ]\n",
      " [1.9962308 ]\n",
      " [2.0228698 ]\n",
      " [2.0271447 ]\n",
      " [2.0846143 ]\n",
      " [1.9732914 ]\n",
      " [2.0144982 ]\n",
      " [2.0178213 ]\n",
      " [2.2196586 ]\n",
      " [2.3561082 ]\n",
      " [2.7018921 ]\n",
      " [2.9383981 ]\n",
      " [2.9823208 ]\n",
      " [3.0020342 ]\n",
      " [3.0030942 ]\n",
      " [2.9963286 ]\n",
      " [3.0015402 ]\n",
      " [3.0062099 ]\n",
      " [3.005641  ]\n",
      " [3.015225  ]\n",
      " [3.013639  ]\n",
      " [3.0122478 ]\n",
      " [3.0104575 ]\n",
      " [3.0035458 ]\n",
      " [2.9997683 ]\n",
      " [3.006652  ]\n",
      " [3.009109  ]\n",
      " [3.0101743 ]\n",
      " [3.0175974 ]\n",
      " [3.017861  ]\n",
      " [3.0181117 ]\n",
      " [3.0184703 ]\n",
      " [3.009413  ]\n",
      " [3.0104258 ]\n",
      " [3.0187879 ]\n",
      " [3.0172753 ]\n",
      " [3.0185313 ]\n",
      " [3.0228999 ]\n",
      " [3.0415015 ]\n",
      " [3.1417315 ]\n",
      " [3.5074928 ]\n",
      " [3.8978686 ]\n",
      " [4.006947  ]\n",
      " [4.013638  ]\n",
      " [4.018757  ]\n",
      " [4.0172687 ]\n",
      " [4.015107  ]\n",
      " [4.008874  ]\n",
      " [4.0018663 ]\n",
      " [4.009086  ]\n",
      " [4.0018444 ]\n",
      " [4.002478  ]\n",
      " [4.0143914 ]\n",
      " [4.030529  ]\n",
      " [4.0310845 ]\n",
      " [4.034324  ]\n",
      " [4.003313  ]\n",
      " [3.9835804 ]\n",
      " [3.940044  ]\n",
      " [3.914904  ]\n",
      " [3.9138389 ]\n",
      " [3.797492  ]\n",
      " [3.4097946 ]\n",
      " [3.1437297 ]\n",
      " [3.0883608 ]\n",
      " [3.0783138 ]\n",
      " [3.0632515 ]\n",
      " [3.0427532 ]\n",
      " [3.0168595 ]\n",
      " [2.9970407 ]\n",
      " [2.9908729 ]\n",
      " [3.0023873 ]\n",
      " [3.0067034 ]\n",
      " [2.9858868 ]\n",
      " [3.0002532 ]\n",
      " [3.0066452 ]\n",
      " [3.007405  ]\n",
      " [3.0072756 ]\n",
      " [3.0065079 ]\n",
      " [3.0052996 ]\n",
      " [3.0038915 ]\n",
      " [3.0024526 ]\n",
      " [3.0350094 ]\n",
      " [3.013353  ]\n",
      " [2.9877033 ]\n",
      " [2.992552  ]\n",
      " [2.996968  ]\n",
      " [2.9959745 ]\n",
      " [3.0226076 ]\n",
      " [3.0502396 ]\n",
      " [3.026105  ]\n",
      " [3.1548371 ]\n",
      " [3.1282015 ]\n",
      " [3.0960197 ]\n",
      " [3.3131926 ]\n",
      " [3.6325915 ]\n",
      " [3.8891492 ]\n",
      " [3.9971135 ]\n",
      " [4.0276403 ]\n",
      " [4.044079  ]\n",
      " [4.0372596 ]\n",
      " [4.021752  ]\n",
      " [4.0169625 ]\n",
      " [4.0137153 ]\n",
      " [4.008953  ]\n",
      " [4.002391  ]\n",
      " [3.985453  ]\n",
      " [3.9704509 ]\n",
      " [3.9718947 ]\n",
      " [3.9794514 ]\n",
      " [3.9607959 ]\n",
      " [3.969765  ]\n",
      " [3.9581335 ]\n",
      " [3.972452  ]\n",
      " [3.9643848 ]\n",
      " [3.9822464 ]\n",
      " [3.9779708 ]\n",
      " [3.9937918 ]\n",
      " [4.0122876 ]\n",
      " [4.0058446 ]\n",
      " [4.0215287 ]\n",
      " [4.0347395 ]\n",
      " [4.02914   ]\n",
      " [4.038386  ]\n",
      " [4.0334196 ]\n",
      " [4.047065  ]\n",
      " [4.0672956 ]\n",
      " [4.089318  ]\n",
      " [4.1207705 ]\n",
      " [4.2070675 ]\n",
      " [4.3413067 ]\n",
      " [4.5086894 ]\n",
      " [4.61359   ]\n",
      " [4.786714  ]\n",
      " [4.842688  ]\n",
      " [4.929659  ]\n",
      " [4.9951386 ]\n",
      " [5.0816493 ]\n",
      " [5.082306  ]\n",
      " [5.1230164 ]\n",
      " [5.153937  ]\n",
      " [5.185049  ]\n",
      " [5.218039  ]\n",
      " [5.275128  ]\n",
      " [5.262876  ]\n",
      " [5.275111  ]\n",
      " [5.279945  ]\n",
      " [5.2907157 ]\n",
      " [5.2752404 ]\n",
      " [5.131518  ]\n",
      " [4.806832  ]\n",
      " [4.5853305 ]\n",
      " [4.293623  ]\n",
      " [4.156849  ]\n",
      " [4.1038465 ]\n",
      " [4.071087  ]\n",
      " [4.028211  ]\n",
      " [4.000263  ]\n",
      " [3.969381  ]\n",
      " [3.9018152 ]\n",
      " [3.9088535 ]\n",
      " [3.9189415 ]\n",
      " [4.13901   ]\n",
      " [4.009816  ]\n",
      " [4.1972656 ]\n",
      " [4.1953397 ]\n",
      " [4.143253  ]\n",
      " [4.1162076 ]\n",
      " [4.009093  ]\n",
      " [3.958578  ]\n",
      " [3.8287504 ]\n",
      " [3.7204218 ]\n",
      " [3.5231483 ]\n",
      " [3.0779219 ]\n",
      " [2.995661  ]\n",
      " [3.0117583 ]\n",
      " [3.00109   ]\n",
      " [2.987394  ]\n",
      " [2.9993873 ]\n",
      " [2.9958107 ]\n",
      " [2.979533  ]\n",
      " [2.8235335 ]\n",
      " [2.4332397 ]\n",
      " [2.0827901 ]\n",
      " [2.0179281 ]\n",
      " [1.9757233 ]\n",
      " [1.9947228 ]\n",
      " [2.007867  ]\n",
      " [2.0447736 ]\n",
      " [2.0462704 ]\n",
      " [2.054753  ]\n",
      " [2.0492735 ]\n",
      " [2.0429678 ]\n",
      " [2.014027  ]\n",
      " [2.0035632 ]\n",
      " [2.0040932 ]\n",
      " [2.0031066 ]\n",
      " [2.0156722 ]\n",
      " [1.989336  ]\n",
      " [1.9731224 ]\n",
      " [1.9724255 ]\n",
      " [1.9746962 ]\n",
      " [1.9752674 ]\n",
      " [1.9848795 ]\n",
      " [1.9769983 ]\n",
      " [1.9767668 ]\n",
      " [1.9619229 ]\n",
      " [1.972821  ]\n",
      " [1.9653282 ]\n",
      " [1.996525  ]\n",
      " [2.0035224 ]\n",
      " [2.0228357 ]]\n"
     ]
    }
   ],
   "source": [
    "print(pre_test)"
   ]
  },
  {
   "cell_type": "code",
   "execution_count": 124,
   "metadata": {},
   "outputs": [],
   "source": [
    "pre_test = np.round(pre_test)"
   ]
  },
  {
   "cell_type": "code",
   "execution_count": 125,
   "metadata": {},
   "outputs": [
    {
     "data": {
      "text/plain": [
       "[2.0,\n",
       " 2.0,\n",
       " 2.0,\n",
       " 2.0,\n",
       " 2.0,\n",
       " 2.0,\n",
       " 2.0,\n",
       " 2.0,\n",
       " 1.0,\n",
       " 1.0,\n",
       " 1.0,\n",
       " 1.0,\n",
       " 1.0,\n",
       " 1.0,\n",
       " 1.0,\n",
       " 1.0,\n",
       " 1.0,\n",
       " 1.0,\n",
       " 1.0,\n",
       " 1.0,\n",
       " 1.0,\n",
       " 1.0,\n",
       " 1.0,\n",
       " 1.0,\n",
       " 1.0,\n",
       " 1.0,\n",
       " 1.0,\n",
       " 1.0,\n",
       " 1.0,\n",
       " 1.0,\n",
       " 1.0,\n",
       " 1.0,\n",
       " 1.0,\n",
       " 1.0,\n",
       " 1.0,\n",
       " 1.0,\n",
       " 1.0,\n",
       " 1.0,\n",
       " 1.0,\n",
       " 1.0,\n",
       " 1.0,\n",
       " 1.0,\n",
       " 1.0,\n",
       " 1.0,\n",
       " 1.0,\n",
       " 1.0,\n",
       " 1.0,\n",
       " 1.0,\n",
       " 1.0,\n",
       " 1.0,\n",
       " 1.0,\n",
       " 1.0,\n",
       " 1.0,\n",
       " 1.0,\n",
       " 1.0,\n",
       " 1.0,\n",
       " 1.0,\n",
       " 1.0,\n",
       " 1.0,\n",
       " 1.0,\n",
       " 1.0,\n",
       " 1.0,\n",
       " 1.0,\n",
       " 2.0,\n",
       " 2.0,\n",
       " 2.0,\n",
       " 2.0,\n",
       " 2.0,\n",
       " 2.0,\n",
       " 2.0,\n",
       " 2.0,\n",
       " 2.0,\n",
       " 2.0,\n",
       " 2.0,\n",
       " 2.0,\n",
       " 2.0,\n",
       " 2.0,\n",
       " 2.0,\n",
       " 2.0,\n",
       " 2.0,\n",
       " 2.0,\n",
       " 2.0,\n",
       " 2.0,\n",
       " 2.0,\n",
       " 2.0,\n",
       " 2.0,\n",
       " 3.0,\n",
       " 3.0,\n",
       " 3.0,\n",
       " 3.0,\n",
       " 3.0,\n",
       " 3.0,\n",
       " 3.0,\n",
       " 3.0,\n",
       " 3.0,\n",
       " 3.0,\n",
       " 3.0,\n",
       " 3.0,\n",
       " 3.0,\n",
       " 3.0,\n",
       " 3.0,\n",
       " 3.0,\n",
       " 3.0,\n",
       " 3.0,\n",
       " 3.0,\n",
       " 3.0,\n",
       " 3.0,\n",
       " 3.0,\n",
       " 3.0,\n",
       " 3.0,\n",
       " 3.0,\n",
       " 3.0,\n",
       " 3.0,\n",
       " 3.0,\n",
       " 3.0,\n",
       " 3.0,\n",
       " 4.0,\n",
       " 4.0,\n",
       " 4.0,\n",
       " 4.0,\n",
       " 4.0,\n",
       " 4.0,\n",
       " 4.0,\n",
       " 4.0,\n",
       " 4.0,\n",
       " 4.0,\n",
       " 4.0,\n",
       " 4.0,\n",
       " 4.0,\n",
       " 4.0,\n",
       " 4.0,\n",
       " 4.0,\n",
       " 4.0,\n",
       " 4.0,\n",
       " 4.0,\n",
       " 4.0,\n",
       " 4.0,\n",
       " 4.0,\n",
       " 3.0,\n",
       " 3.0,\n",
       " 3.0,\n",
       " 3.0,\n",
       " 3.0,\n",
       " 3.0,\n",
       " 3.0,\n",
       " 3.0,\n",
       " 3.0,\n",
       " 3.0,\n",
       " 3.0,\n",
       " 3.0,\n",
       " 3.0,\n",
       " 3.0,\n",
       " 3.0,\n",
       " 3.0,\n",
       " 3.0,\n",
       " 3.0,\n",
       " 3.0,\n",
       " 3.0,\n",
       " 3.0,\n",
       " 3.0,\n",
       " 3.0,\n",
       " 3.0,\n",
       " 3.0,\n",
       " 3.0,\n",
       " 3.0,\n",
       " 3.0,\n",
       " 3.0,\n",
       " 3.0,\n",
       " 3.0,\n",
       " 3.0,\n",
       " 3.0,\n",
       " 4.0,\n",
       " 4.0,\n",
       " 4.0,\n",
       " 4.0,\n",
       " 4.0,\n",
       " 4.0,\n",
       " 4.0,\n",
       " 4.0,\n",
       " 4.0,\n",
       " 4.0,\n",
       " 4.0,\n",
       " 4.0,\n",
       " 4.0,\n",
       " 4.0,\n",
       " 4.0,\n",
       " 4.0,\n",
       " 4.0,\n",
       " 4.0,\n",
       " 4.0,\n",
       " 4.0,\n",
       " 4.0,\n",
       " 4.0,\n",
       " 4.0,\n",
       " 4.0,\n",
       " 4.0,\n",
       " 4.0,\n",
       " 4.0,\n",
       " 4.0,\n",
       " 4.0,\n",
       " 4.0,\n",
       " 4.0,\n",
       " 4.0,\n",
       " 4.0,\n",
       " 4.0,\n",
       " 4.0,\n",
       " 4.0,\n",
       " 5.0,\n",
       " 5.0,\n",
       " 5.0,\n",
       " 5.0,\n",
       " 5.0,\n",
       " 5.0,\n",
       " 5.0,\n",
       " 5.0,\n",
       " 5.0,\n",
       " 5.0,\n",
       " 5.0,\n",
       " 5.0,\n",
       " 5.0,\n",
       " 5.0,\n",
       " 5.0,\n",
       " 5.0,\n",
       " 5.0,\n",
       " 5.0,\n",
       " 5.0,\n",
       " 5.0,\n",
       " 5.0,\n",
       " 4.0,\n",
       " 4.0,\n",
       " 4.0,\n",
       " 4.0,\n",
       " 4.0,\n",
       " 4.0,\n",
       " 4.0,\n",
       " 4.0,\n",
       " 4.0,\n",
       " 4.0,\n",
       " 4.0,\n",
       " 4.0,\n",
       " 4.0,\n",
       " 4.0,\n",
       " 4.0,\n",
       " 4.0,\n",
       " 4.0,\n",
       " 4.0,\n",
       " 4.0,\n",
       " 4.0,\n",
       " 4.0,\n",
       " 3.0,\n",
       " 3.0,\n",
       " 3.0,\n",
       " 3.0,\n",
       " 3.0,\n",
       " 3.0,\n",
       " 3.0,\n",
       " 3.0,\n",
       " 3.0,\n",
       " 2.0,\n",
       " 2.0,\n",
       " 2.0,\n",
       " 2.0,\n",
       " 2.0,\n",
       " 2.0,\n",
       " 2.0,\n",
       " 2.0,\n",
       " 2.0,\n",
       " 2.0,\n",
       " 2.0,\n",
       " 2.0,\n",
       " 2.0,\n",
       " 2.0,\n",
       " 2.0,\n",
       " 2.0,\n",
       " 2.0,\n",
       " 2.0,\n",
       " 2.0,\n",
       " 2.0,\n",
       " 2.0,\n",
       " 2.0,\n",
       " 2.0,\n",
       " 2.0,\n",
       " 2.0,\n",
       " 2.0,\n",
       " 2.0,\n",
       " 2.0,\n",
       " 2.0,\n",
       " 2.0]"
      ]
     },
     "execution_count": 125,
     "metadata": {},
     "output_type": "execute_result"
    }
   ],
   "source": [
    "#把二维转化为一维\n",
    "pre_test = [i for arr in pre_test for i in arr ]\n",
    "pre_test"
   ]
  },
  {
   "cell_type": "code",
   "execution_count": 126,
   "metadata": {},
   "outputs": [
    {
     "name": "stdout",
     "output_type": "stream",
     "text": [
      "[2.0, 2.0, 2.0, 2.0, 2.0, 2.0, 2.0, 2.0, 1.0, 1.0, 1.0, 1.0, 1.0, 1.0, 1.0, 1.0, 1.0, 1.0, 1.0, 1.0, 1.0, 1.0, 1.0, 1.0, 1.0, 1.0, 1.0, 1.0, 1.0, 1.0, 1.0, 1.0, 1.0, 1.0, 1.0, 1.0, 1.0, 1.0, 1.0, 1.0, 1.0, 1.0, 1.0, 1.0, 1.0, 1.0, 1.0, 1.0, 1.0, 1.0, 1.0, 1.0, 1.0, 1.0, 1.0, 1.0, 1.0, 1.0, 1.0, 1.0, 1.0, 1.0, 1.0, 2.0, 2.0, 2.0, 2.0, 2.0, 2.0, 2.0, 2.0, 2.0, 2.0, 2.0, 2.0, 2.0, 2.0, 2.0, 2.0, 2.0, 2.0, 2.0, 2.0, 2.0, 2.0, 2.0, 3.0, 3.0, 3.0, 3.0, 3.0, 3.0, 3.0, 3.0, 3.0, 3.0, 3.0, 3.0, 3.0, 3.0, 3.0, 3.0, 3.0, 3.0, 3.0, 3.0, 3.0, 3.0, 3.0, 3.0, 3.0, 3.0, 3.0, 3.0, 3.0, 3.0, 4.0, 4.0, 4.0, 4.0, 4.0, 4.0, 4.0, 4.0, 4.0, 4.0, 4.0, 4.0, 4.0, 4.0, 4.0, 4.0, 4.0, 4.0, 4.0, 4.0, 4.0, 4.0, 3.0, 3.0, 3.0, 3.0, 3.0, 3.0, 3.0, 3.0, 3.0, 3.0, 3.0, 3.0, 3.0, 3.0, 3.0, 3.0, 3.0, 3.0, 3.0, 3.0, 3.0, 3.0, 3.0, 3.0, 3.0, 3.0, 3.0, 3.0, 3.0, 3.0, 3.0, 3.0, 3.0, 4.0, 4.0, 4.0, 4.0, 4.0, 4.0, 4.0, 4.0, 4.0, 4.0, 4.0, 4.0, 4.0, 4.0, 4.0, 4.0, 4.0, 4.0, 4.0, 4.0, 4.0, 4.0, 4.0, 4.0, 4.0, 4.0, 4.0, 4.0, 4.0, 4.0, 4.0, 4.0, 4.0, 4.0, 4.0, 4.0, 5.0, 5.0, 5.0, 5.0, 5.0, 5.0, 5.0, 5.0, 5.0, 5.0, 5.0, 5.0, 5.0, 5.0, 5.0, 5.0, 5.0, 5.0, 5.0, 5.0, 5.0, 4.0, 4.0, 4.0, 4.0, 4.0, 4.0, 4.0, 4.0, 4.0, 4.0, 4.0, 4.0, 4.0, 4.0, 4.0, 4.0, 4.0, 4.0, 4.0, 4.0, 4.0, 3.0, 3.0, 3.0, 3.0, 3.0, 3.0, 3.0, 3.0, 3.0, 2.0, 2.0, 2.0, 2.0, 2.0, 2.0, 2.0, 2.0, 2.0, 2.0, 2.0, 2.0, 2.0, 2.0, 2.0, 2.0, 2.0, 2.0, 2.0, 2.0, 2.0, 2.0, 2.0, 2.0, 2.0, 2.0, 2.0, 2.0, 2.0, 2.0]\n"
     ]
    }
   ],
   "source": [
    "print(pre_test)"
   ]
  },
  {
   "cell_type": "code",
   "execution_count": 127,
   "metadata": {},
   "outputs": [
    {
     "data": {
      "text/plain": [
       "288"
      ]
     },
     "execution_count": 127,
     "metadata": {},
     "output_type": "execute_result"
    }
   ],
   "source": [
    "len(pre_test)"
   ]
  },
  {
   "cell_type": "code",
   "execution_count": 128,
   "metadata": {},
   "outputs": [],
   "source": [
    "future_real_y = (corrected_roadData.tail(288)).EXPONENT.values"
   ]
  },
  {
   "cell_type": "code",
   "execution_count": 129,
   "metadata": {},
   "outputs": [
    {
     "data": {
      "text/plain": [
       "array([1, 1, 2, 2, 1, 1, 2, 1, 1, 1, 1, 2, 1, 2, 1, 2, 1, 3, 2, 2, 1, 1,\n",
       "       1, 1, 1, 1, 1, 1, 1, 1, 1, 1, 1, 2, 1, 2, 3, 1, 3, 1, 2, 2, 2, 2,\n",
       "       1, 3, 1, 1, 2, 3, 3, 4, 3, 1, 3, 1, 3, 3, 1, 2, 2, 1, 1, 1, 2, 1,\n",
       "       1, 1, 1, 2, 2, 2, 3, 2, 2, 2, 1, 1, 2, 3, 3, 2, 1, 2, 2, 1, 2, 3,\n",
       "       3, 3, 4, 3, 4, 3, 2, 3, 2, 3, 3, 2, 3, 3, 3, 3, 3, 3, 3, 3, 3, 3,\n",
       "       3, 3, 3, 4, 4, 4, 3, 3, 4, 4, 3, 3, 4, 4, 4, 4, 4, 4, 4, 4, 4, 4,\n",
       "       3, 4, 4, 4, 3, 4, 3, 3, 3, 4, 4, 4, 4, 3, 4, 3, 2, 3, 3, 2, 3, 2,\n",
       "       3, 3, 2, 3, 3, 3, 3, 3, 3, 3, 3, 3, 3, 3, 4, 4, 3, 3, 3, 4, 3, 4,\n",
       "       4, 4, 4, 4, 4, 4, 4, 5, 3, 4, 4, 4, 4, 4, 5, 4, 3, 4, 3, 4, 4, 4,\n",
       "       4, 4, 4, 4, 4, 4, 4, 4, 4, 4, 4, 4, 4, 4, 5, 5, 5, 5, 6, 6, 6, 5,\n",
       "       5, 6, 5, 5, 5, 5, 5, 4, 4, 4, 4, 4, 3, 3, 3, 3, 3, 3, 3, 3, 3, 4,\n",
       "       3, 3, 3, 4, 3, 3, 3, 3, 3, 3, 3, 3, 3, 3, 2, 3, 2, 2, 3, 2, 3, 2,\n",
       "       2, 2, 3, 3, 2, 2, 2, 3, 2, 3, 3, 2, 2, 2, 2, 2, 1, 2, 2, 2, 2, 2,\n",
       "       2, 2])"
      ]
     },
     "execution_count": 129,
     "metadata": {},
     "output_type": "execute_result"
    }
   ],
   "source": [
    "future_real_y"
   ]
  },
  {
   "cell_type": "code",
   "execution_count": 130,
   "metadata": {},
   "outputs": [
    {
     "name": "stdout",
     "output_type": "stream",
     "text": [
      "288 178\n",
      "预测的正确率为：0.6180555555555556\n"
     ]
    }
   ],
   "source": [
    "sum1=0\n",
    "sum2=0\n",
    "for i in range(0,288):\n",
    "    if future_real_y[i] == for_predict_y[i]:\n",
    "        sum1+=1\n",
    "    if future_real_y[i] == pre_test[i]:\n",
    "        sum2+=1    \n",
    "print(sum1,sum2)\n",
    "print('预测的正确率为：' + str(sum2/sum1))"
   ]
  },
  {
   "cell_type": "markdown",
   "metadata": {},
   "source": [
    "# （七）把预测的数据写入Excel文件"
   ]
  },
  {
   "cell_type": "code",
   "execution_count": 131,
   "metadata": {},
   "outputs": [
    {
     "name": "stdout",
     "output_type": "stream",
     "text": [
      "已保存\n"
     ]
    }
   ],
   "source": [
    "from openpyxl import Workbook\n",
    "#将数据写入到Excel并保存\n",
    "wb = Workbook()\n",
    "sheet1 = wb.active\n",
    "sheet1.title = 'road%d'%number\n",
    "col_name = ['TCI_prediction_of_road%d'%number]   #注意修改此处\n",
    "variable_name = [pre_test]\n",
    "for j in range(1,len(col_name)+1):\n",
    "    sheet1.cell(1,j,col_name[j-1])\n",
    "    for i in range(2,len(variable_name[j-1])+2):\n",
    "        sheet1.cell(i,j,variable_name[j-1][i-2])\n",
    "wb.save('TCI_prediction_of_road%d.xlsx'%number)\n",
    "print('已保存')"
   ]
  },
  {
   "cell_type": "markdown",
   "metadata": {},
   "source": [
    "# 八、加载已有模型进行预测 "
   ]
  },
  {
   "cell_type": "code",
   "execution_count": null,
   "metadata": {},
   "outputs": [],
   "source": [
    "from keras.models import load_model "
   ]
  },
  {
   "cell_type": "code",
   "execution_count": null,
   "metadata": {},
   "outputs": [],
   "source": [
    "model = load_model(\"TCI_prediction_road%d_model\"%number)"
   ]
  },
  {
   "cell_type": "code",
   "execution_count": null,
   "metadata": {},
   "outputs": [],
   "source": []
  },
  {
   "cell_type": "code",
   "execution_count": null,
   "metadata": {},
   "outputs": [],
   "source": []
  },
  {
   "cell_type": "code",
   "execution_count": null,
   "metadata": {},
   "outputs": [],
   "source": []
  },
  {
   "cell_type": "code",
   "execution_count": null,
   "metadata": {},
   "outputs": [],
   "source": []
  },
  {
   "cell_type": "code",
   "execution_count": null,
   "metadata": {},
   "outputs": [],
   "source": []
  },
  {
   "cell_type": "code",
   "execution_count": null,
   "metadata": {},
   "outputs": [],
   "source": []
  }
 ],
 "metadata": {
  "kernelspec": {
   "display_name": "Python 3",
   "language": "python",
   "name": "python3"
  },
  "language_info": {
   "codemirror_mode": {
    "name": "ipython",
    "version": 3
   },
   "file_extension": ".py",
   "mimetype": "text/x-python",
   "name": "python",
   "nbconvert_exporter": "python",
   "pygments_lexer": "ipython3",
   "version": "3.7.6"
  }
 },
 "nbformat": 4,
 "nbformat_minor": 4
}
